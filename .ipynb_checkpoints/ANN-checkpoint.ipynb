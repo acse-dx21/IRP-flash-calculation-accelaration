{
 "cells": [
  {
   "cell_type": "code",
   "execution_count": 1,
   "id": "7068fa9f",
   "metadata": {},
   "outputs": [],
   "source": [
    "from data import generate_data\n",
    "from data.generate_data import genertate_T, genertate_P, genertate_Zs_n\n",
    "from tool import Py2Cpp as pc\n",
    "from test import test_data_set\n",
    "from thermo import ChemicalConstantsPackage, CEOSGas, CEOSLiquid, SRKMIX, FlashVLN, PropertyCorrelationsPackage, \\\n",
    "    HeatCapacityGas\n",
    "from torch.utils.data import DataLoader\n",
    "from model import ArtificialNN\n",
    "from model.train import DeepNetwork_Train\n",
    "import torch\n",
    "import torch.nn as nn\n",
    "import thermo\n",
    "import pandas as pd\n",
    "import numpy as np\n",
    "from sklearn.model_selection import train_test_split\n",
    "from scipy.signal import convolve2d, correlate2d\n",
    "from sklearn.multioutput import MultiOutputRegressor\n",
    "dsa = None\n",
    "import random"
   ]
  },
  {
   "cell_type": "code",
   "execution_count": 2,
   "id": "e8a1c8ff",
   "metadata": {},
   "outputs": [],
   "source": [
    "ID = ['methane', 'ethane', 'nitrogen']\n",
    "constants, properties = ChemicalConstantsPackage.from_IDs(ID)"
   ]
  },
  {
   "cell_type": "code",
   "execution_count": 3,
   "id": "fa2296f8",
   "metadata": {},
   "outputs": [],
   "source": [
    "data = pd.read_csv(\"good_TPZ_train.csv\", comment='#')\n",
    "\n",
    "T_set_train, P_set_train, Zs_set_train = generate_data.read_from_good_TPZ(\"good_TPZ_train.csv\")\n",
    "T_set_test, P_set_test, Zs_set_test = generate_data.read_from_good_TPZ(\"good_TPZ_test.csv\")\n"
   ]
  },
  {
   "cell_type": "code",
   "execution_count": 4,
   "id": "8977fb0c",
   "metadata": {},
   "outputs": [
    {
     "data": {
      "text/plain": [
       "(2000, 2000)"
      ]
     },
     "execution_count": 4,
     "metadata": {},
     "output_type": "execute_result"
    }
   ],
   "source": [
    "data_max=2000\n",
    "T_set_train, P_set_train, Zs_set_train = T_set_train[:data_max], P_set_train[:data_max], Zs_set_train[:data_max]\n",
    "T_set_test, P_set_test, Zs_set_test =  T_set_test[:data_max], P_set_test[:data_max], Zs_set_test[:data_max]\n",
    "len(T_set_train),len(T_set_test)"
   ]
  },
  {
   "cell_type": "code",
   "execution_count": 5,
   "id": "edfd3f76",
   "metadata": {},
   "outputs": [],
   "source": [
    "train_set = generate_data.flashdata(constants, properties, {\"T\": T_set_train, \"P\": P_set_train}, Zs_set_train, \"Vapor_Liquid\")\n",
    "test_set = generate_data.flashdata(constants, properties, {\"T\": T_set_test, \"P\": P_set_test}, Zs_set_test, \"Vapor_Liquid\")"
   ]
  },
  {
   "cell_type": "code",
   "execution_count": 6,
   "id": "b8ffdf76",
   "metadata": {},
   "outputs": [],
   "source": [
    "train_loader = DataLoader(train_set, shuffle=False,\n",
    "                          batch_size=train_set.__len__(), collate_fn=generate_data.collate_VL)\n",
    "test_loader = DataLoader(test_set, shuffle=False,\n",
    "                          batch_size=test_set.__len__(), collate_fn=generate_data.collate_VL)"
   ]
  },
  {
   "cell_type": "code",
   "execution_count": 27,
   "id": "808d861a",
   "metadata": {},
   "outputs": [],
   "source": [
    "model_path=\".\\\\Simple_ANN_experience\\\\simpleANN.pt\""
   ]
  },
  {
   "cell_type": "code",
   "execution_count": 25,
   "id": "e81daba2",
   "metadata": {},
   "outputs": [
    {
     "name": "stderr",
     "output_type": "stream",
     "text": [
      "E:\\Ic document\\IRP-Accelerating-flash-calculation-through-deep-learn\\tool\\log.py:10: FutureWarning: The frame.append method is deprecated and will be removed from pandas in a future version. Use pandas.concat instead.\n",
      "  self.csv=self.csv.append(pd,ignore_index=True)\n",
      "E:\\Ic document\\IRP-Accelerating-flash-calculation-through-deep-learn\\tool\\log.py:10: FutureWarning: The frame.append method is deprecated and will be removed from pandas in a future version. Use pandas.concat instead.\n",
      "  self.csv=self.csv.append(pd,ignore_index=True)\n"
     ]
    },
    {
     "name": "stdout",
     "output_type": "stream",
     "text": [
      "{'epoch': 1, 'loss': 0.1253272444009781}\n"
     ]
    },
    {
     "name": "stderr",
     "output_type": "stream",
     "text": [
      "E:\\Ic document\\IRP-Accelerating-flash-calculation-through-deep-learn\\tool\\log.py:10: FutureWarning: The frame.append method is deprecated and will be removed from pandas in a future version. Use pandas.concat instead.\n",
      "  self.csv=self.csv.append(pd,ignore_index=True)\n"
     ]
    },
    {
     "name": "stdout",
     "output_type": "stream",
     "text": [
      "{'epoch': 2, 'loss': 0.12386497110128403}\n"
     ]
    },
    {
     "name": "stderr",
     "output_type": "stream",
     "text": [
      "E:\\Ic document\\IRP-Accelerating-flash-calculation-through-deep-learn\\tool\\log.py:10: FutureWarning: The frame.append method is deprecated and will be removed from pandas in a future version. Use pandas.concat instead.\n",
      "  self.csv=self.csv.append(pd,ignore_index=True)\n"
     ]
    },
    {
     "name": "stdout",
     "output_type": "stream",
     "text": [
      "{'epoch': 3, 'loss': 0.12242399901151657}\n"
     ]
    },
    {
     "name": "stderr",
     "output_type": "stream",
     "text": [
      "E:\\Ic document\\IRP-Accelerating-flash-calculation-through-deep-learn\\tool\\log.py:10: FutureWarning: The frame.append method is deprecated and will be removed from pandas in a future version. Use pandas.concat instead.\n",
      "  self.csv=self.csv.append(pd,ignore_index=True)\n"
     ]
    },
    {
     "name": "stdout",
     "output_type": "stream",
     "text": [
      "{'epoch': 4, 'loss': 0.12100493907928467}\n"
     ]
    },
    {
     "name": "stderr",
     "output_type": "stream",
     "text": [
      "E:\\Ic document\\IRP-Accelerating-flash-calculation-through-deep-learn\\tool\\log.py:10: FutureWarning: The frame.append method is deprecated and will be removed from pandas in a future version. Use pandas.concat instead.\n",
      "  self.csv=self.csv.append(pd,ignore_index=True)\n"
     ]
    },
    {
     "name": "stdout",
     "output_type": "stream",
     "text": [
      "{'epoch': 5, 'loss': 0.11960835754871368}\n"
     ]
    },
    {
     "name": "stderr",
     "output_type": "stream",
     "text": [
      "E:\\Ic document\\IRP-Accelerating-flash-calculation-through-deep-learn\\tool\\log.py:10: FutureWarning: The frame.append method is deprecated and will be removed from pandas in a future version. Use pandas.concat instead.\n",
      "  self.csv=self.csv.append(pd,ignore_index=True)\n"
     ]
    },
    {
     "name": "stdout",
     "output_type": "stream",
     "text": [
      "{'epoch': 6, 'loss': 0.118234783411026}\n"
     ]
    },
    {
     "name": "stderr",
     "output_type": "stream",
     "text": [
      "E:\\Ic document\\IRP-Accelerating-flash-calculation-through-deep-learn\\tool\\log.py:10: FutureWarning: The frame.append method is deprecated and will be removed from pandas in a future version. Use pandas.concat instead.\n",
      "  self.csv=self.csv.append(pd,ignore_index=True)\n"
     ]
    },
    {
     "name": "stdout",
     "output_type": "stream",
     "text": [
      "{'epoch': 7, 'loss': 0.11688470095396042}\n"
     ]
    },
    {
     "name": "stderr",
     "output_type": "stream",
     "text": [
      "E:\\Ic document\\IRP-Accelerating-flash-calculation-through-deep-learn\\tool\\log.py:10: FutureWarning: The frame.append method is deprecated and will be removed from pandas in a future version. Use pandas.concat instead.\n",
      "  self.csv=self.csv.append(pd,ignore_index=True)\n"
     ]
    },
    {
     "name": "stdout",
     "output_type": "stream",
     "text": [
      "{'epoch': 8, 'loss': 0.11555853486061096}\n"
     ]
    },
    {
     "name": "stderr",
     "output_type": "stream",
     "text": [
      "E:\\Ic document\\IRP-Accelerating-flash-calculation-through-deep-learn\\tool\\log.py:10: FutureWarning: The frame.append method is deprecated and will be removed from pandas in a future version. Use pandas.concat instead.\n",
      "  self.csv=self.csv.append(pd,ignore_index=True)\n"
     ]
    },
    {
     "name": "stdout",
     "output_type": "stream",
     "text": [
      "{'epoch': 9, 'loss': 0.11425666511058807}\n"
     ]
    },
    {
     "name": "stderr",
     "output_type": "stream",
     "text": [
      "E:\\Ic document\\IRP-Accelerating-flash-calculation-through-deep-learn\\tool\\log.py:10: FutureWarning: The frame.append method is deprecated and will be removed from pandas in a future version. Use pandas.concat instead.\n",
      "  self.csv=self.csv.append(pd,ignore_index=True)\n"
     ]
    },
    {
     "name": "stdout",
     "output_type": "stream",
     "text": [
      "{'epoch': 10, 'loss': 0.11297938972711563}\n"
     ]
    },
    {
     "name": "stderr",
     "output_type": "stream",
     "text": [
      "E:\\Ic document\\IRP-Accelerating-flash-calculation-through-deep-learn\\tool\\log.py:10: FutureWarning: The frame.append method is deprecated and will be removed from pandas in a future version. Use pandas.concat instead.\n",
      "  self.csv=self.csv.append(pd,ignore_index=True)\n"
     ]
    },
    {
     "name": "stdout",
     "output_type": "stream",
     "text": [
      "{'epoch': 11, 'loss': 0.1117270365357399}\n"
     ]
    },
    {
     "name": "stderr",
     "output_type": "stream",
     "text": [
      "E:\\Ic document\\IRP-Accelerating-flash-calculation-through-deep-learn\\tool\\log.py:10: FutureWarning: The frame.append method is deprecated and will be removed from pandas in a future version. Use pandas.concat instead.\n",
      "  self.csv=self.csv.append(pd,ignore_index=True)\n"
     ]
    },
    {
     "name": "stdout",
     "output_type": "stream",
     "text": [
      "{'epoch': 12, 'loss': 0.11049982905387878}\n"
     ]
    },
    {
     "name": "stderr",
     "output_type": "stream",
     "text": [
      "E:\\Ic document\\IRP-Accelerating-flash-calculation-through-deep-learn\\tool\\log.py:10: FutureWarning: The frame.append method is deprecated and will be removed from pandas in a future version. Use pandas.concat instead.\n",
      "  self.csv=self.csv.append(pd,ignore_index=True)\n"
     ]
    },
    {
     "name": "stdout",
     "output_type": "stream",
     "text": [
      "{'epoch': 13, 'loss': 0.10929795354604721}\n"
     ]
    },
    {
     "name": "stderr",
     "output_type": "stream",
     "text": [
      "E:\\Ic document\\IRP-Accelerating-flash-calculation-through-deep-learn\\tool\\log.py:10: FutureWarning: The frame.append method is deprecated and will be removed from pandas in a future version. Use pandas.concat instead.\n",
      "  self.csv=self.csv.append(pd,ignore_index=True)\n"
     ]
    },
    {
     "name": "stdout",
     "output_type": "stream",
     "text": [
      "{'epoch': 14, 'loss': 0.1081216037273407}\n"
     ]
    },
    {
     "name": "stderr",
     "output_type": "stream",
     "text": [
      "E:\\Ic document\\IRP-Accelerating-flash-calculation-through-deep-learn\\tool\\log.py:10: FutureWarning: The frame.append method is deprecated and will be removed from pandas in a future version. Use pandas.concat instead.\n",
      "  self.csv=self.csv.append(pd,ignore_index=True)\n"
     ]
    },
    {
     "name": "stdout",
     "output_type": "stream",
     "text": [
      "{'epoch': 15, 'loss': 0.106970876455307}\n"
     ]
    },
    {
     "name": "stderr",
     "output_type": "stream",
     "text": [
      "E:\\Ic document\\IRP-Accelerating-flash-calculation-through-deep-learn\\tool\\log.py:10: FutureWarning: The frame.append method is deprecated and will be removed from pandas in a future version. Use pandas.concat instead.\n",
      "  self.csv=self.csv.append(pd,ignore_index=True)\n"
     ]
    },
    {
     "name": "stdout",
     "output_type": "stream",
     "text": [
      "{'epoch': 16, 'loss': 0.10584590584039688}\n"
     ]
    },
    {
     "name": "stderr",
     "output_type": "stream",
     "text": [
      "E:\\Ic document\\IRP-Accelerating-flash-calculation-through-deep-learn\\tool\\log.py:10: FutureWarning: The frame.append method is deprecated and will be removed from pandas in a future version. Use pandas.concat instead.\n",
      "  self.csv=self.csv.append(pd,ignore_index=True)\n"
     ]
    },
    {
     "name": "stdout",
     "output_type": "stream",
     "text": [
      "{'epoch': 17, 'loss': 0.10474676638841629}\n"
     ]
    },
    {
     "name": "stderr",
     "output_type": "stream",
     "text": [
      "E:\\Ic document\\IRP-Accelerating-flash-calculation-through-deep-learn\\tool\\log.py:10: FutureWarning: The frame.append method is deprecated and will be removed from pandas in a future version. Use pandas.concat instead.\n",
      "  self.csv=self.csv.append(pd,ignore_index=True)\n"
     ]
    },
    {
     "name": "stdout",
     "output_type": "stream",
     "text": [
      "{'epoch': 18, 'loss': 0.10367345809936523}\n"
     ]
    },
    {
     "name": "stderr",
     "output_type": "stream",
     "text": [
      "E:\\Ic document\\IRP-Accelerating-flash-calculation-through-deep-learn\\tool\\log.py:10: FutureWarning: The frame.append method is deprecated and will be removed from pandas in a future version. Use pandas.concat instead.\n",
      "  self.csv=self.csv.append(pd,ignore_index=True)\n"
     ]
    },
    {
     "name": "stdout",
     "output_type": "stream",
     "text": [
      "{'epoch': 19, 'loss': 0.1026260182261467}\n"
     ]
    },
    {
     "name": "stderr",
     "output_type": "stream",
     "text": [
      "E:\\Ic document\\IRP-Accelerating-flash-calculation-through-deep-learn\\tool\\log.py:10: FutureWarning: The frame.append method is deprecated and will be removed from pandas in a future version. Use pandas.concat instead.\n",
      "  self.csv=self.csv.append(pd,ignore_index=True)\n"
     ]
    },
    {
     "name": "stdout",
     "output_type": "stream",
     "text": [
      "{'epoch': 20, 'loss': 0.1016043871641159}\n"
     ]
    },
    {
     "name": "stderr",
     "output_type": "stream",
     "text": [
      "E:\\Ic document\\IRP-Accelerating-flash-calculation-through-deep-learn\\tool\\log.py:10: FutureWarning: The frame.append method is deprecated and will be removed from pandas in a future version. Use pandas.concat instead.\n",
      "  self.csv=self.csv.append(pd,ignore_index=True)\n"
     ]
    },
    {
     "name": "stdout",
     "output_type": "stream",
     "text": [
      "{'epoch': 21, 'loss': 0.10060849040746689}\n"
     ]
    },
    {
     "name": "stderr",
     "output_type": "stream",
     "text": [
      "E:\\Ic document\\IRP-Accelerating-flash-calculation-through-deep-learn\\tool\\log.py:10: FutureWarning: The frame.append method is deprecated and will be removed from pandas in a future version. Use pandas.concat instead.\n",
      "  self.csv=self.csv.append(pd,ignore_index=True)\n"
     ]
    },
    {
     "name": "stdout",
     "output_type": "stream",
     "text": [
      "{'epoch': 22, 'loss': 0.0996382012963295}\n"
     ]
    },
    {
     "name": "stderr",
     "output_type": "stream",
     "text": [
      "E:\\Ic document\\IRP-Accelerating-flash-calculation-through-deep-learn\\tool\\log.py:10: FutureWarning: The frame.append method is deprecated and will be removed from pandas in a future version. Use pandas.concat instead.\n",
      "  self.csv=self.csv.append(pd,ignore_index=True)\n"
     ]
    },
    {
     "name": "stdout",
     "output_type": "stream",
     "text": [
      "{'epoch': 23, 'loss': 0.0986933559179306}\n"
     ]
    },
    {
     "name": "stderr",
     "output_type": "stream",
     "text": [
      "E:\\Ic document\\IRP-Accelerating-flash-calculation-through-deep-learn\\tool\\log.py:10: FutureWarning: The frame.append method is deprecated and will be removed from pandas in a future version. Use pandas.concat instead.\n",
      "  self.csv=self.csv.append(pd,ignore_index=True)\n"
     ]
    },
    {
     "name": "stdout",
     "output_type": "stream",
     "text": [
      "{'epoch': 24, 'loss': 0.09777377545833588}\n"
     ]
    },
    {
     "name": "stderr",
     "output_type": "stream",
     "text": [
      "E:\\Ic document\\IRP-Accelerating-flash-calculation-through-deep-learn\\tool\\log.py:10: FutureWarning: The frame.append method is deprecated and will be removed from pandas in a future version. Use pandas.concat instead.\n",
      "  self.csv=self.csv.append(pd,ignore_index=True)\n"
     ]
    },
    {
     "name": "stdout",
     "output_type": "stream",
     "text": [
      "{'epoch': 25, 'loss': 0.09687919169664383}\n"
     ]
    },
    {
     "name": "stderr",
     "output_type": "stream",
     "text": [
      "E:\\Ic document\\IRP-Accelerating-flash-calculation-through-deep-learn\\tool\\log.py:10: FutureWarning: The frame.append method is deprecated and will be removed from pandas in a future version. Use pandas.concat instead.\n",
      "  self.csv=self.csv.append(pd,ignore_index=True)\n"
     ]
    },
    {
     "name": "stdout",
     "output_type": "stream",
     "text": [
      "{'epoch': 26, 'loss': 0.09600933641195297}\n"
     ]
    },
    {
     "name": "stderr",
     "output_type": "stream",
     "text": [
      "E:\\Ic document\\IRP-Accelerating-flash-calculation-through-deep-learn\\tool\\log.py:10: FutureWarning: The frame.append method is deprecated and will be removed from pandas in a future version. Use pandas.concat instead.\n",
      "  self.csv=self.csv.append(pd,ignore_index=True)\n"
     ]
    },
    {
     "name": "stdout",
     "output_type": "stream",
     "text": [
      "{'epoch': 27, 'loss': 0.09516391903162003}\n"
     ]
    },
    {
     "name": "stderr",
     "output_type": "stream",
     "text": [
      "E:\\Ic document\\IRP-Accelerating-flash-calculation-through-deep-learn\\tool\\log.py:10: FutureWarning: The frame.append method is deprecated and will be removed from pandas in a future version. Use pandas.concat instead.\n",
      "  self.csv=self.csv.append(pd,ignore_index=True)\n"
     ]
    },
    {
     "name": "stdout",
     "output_type": "stream",
     "text": [
      "{'epoch': 28, 'loss': 0.09434258937835693}\n",
      "{'epoch': 29, 'loss': 0.09354498237371445}\n"
     ]
    },
    {
     "name": "stderr",
     "output_type": "stream",
     "text": [
      "E:\\Ic document\\IRP-Accelerating-flash-calculation-through-deep-learn\\tool\\log.py:10: FutureWarning: The frame.append method is deprecated and will be removed from pandas in a future version. Use pandas.concat instead.\n",
      "  self.csv=self.csv.append(pd,ignore_index=True)\n"
     ]
    }
   ],
   "source": [
    "model = ArtificialNN.simple_ANN()\n",
    "model.load_state_dict(torch.load(model_path))\n",
    "\n",
    "criterion = ArtificialNN.My_MSE_loss()\n",
    "optimizer = torch.optim.Adam(model.parameters(), lr=0.001)\n",
    "\n",
    "ANN_train = DeepNetwork_Train(model, criterion, optimizer, train_loader)\n",
    "ANN_train.Train(epoch=30)"
   ]
  },
  {
   "cell_type": "code",
   "execution_count": 26,
   "id": "7d9d05fb",
   "metadata": {},
   "outputs": [],
   "source": [
    "torch.save(model.state_dict(), model_path)"
   ]
  },
  {
   "cell_type": "code",
   "execution_count": 14,
   "id": "4f94c1b5",
   "metadata": {},
   "outputs": [
    {
     "data": {
      "text/plain": [
       "'E:\\\\Ic document\\\\IRP-Accelerating-flash-calculation-through-deep-learn'"
      ]
     },
     "execution_count": 14,
     "metadata": {},
     "output_type": "execute_result"
    }
   ],
   "source": [
    "pwd()"
   ]
  },
  {
   "cell_type": "code",
   "execution_count": 8,
   "id": "b9a31fa8",
   "metadata": {},
   "outputs": [],
   "source": [
    "plot_data=pd.read_csv(\"simple_ANN.csv\")"
   ]
  },
  {
   "cell_type": "code",
   "execution_count": 9,
   "id": "8a254ce6",
   "metadata": {},
   "outputs": [],
   "source": [
    "x=np.array(plot_data[\"epoch\"])[:-1]\n",
    "y=np.array(plot_data[\"loss\"])[:-1]"
   ]
  },
  {
   "cell_type": "code",
   "execution_count": 10,
   "id": "2669b521",
   "metadata": {},
   "outputs": [
    {
     "data": {
      "text/plain": [
       "array([0.17920662, 0.17711377, 0.1750339 , 0.1729753 , 0.17093711,\n",
       "       0.16892147, 0.16693045, 0.16496433, 0.16302341, 0.16110797,\n",
       "       0.1592183 , 0.15735456, 0.15551694, 0.15370552, 0.15192038,\n",
       "       0.1501615 , 0.14842881, 0.14672223, 0.1450416 , 0.14338677,\n",
       "       0.14175747, 0.1401535 , 0.13857457, 0.13702039, 0.13549069,\n",
       "       0.13398515, 0.13250345, 0.13104539, 0.12961063, 0.12819897])"
      ]
     },
     "execution_count": 10,
     "metadata": {},
     "output_type": "execute_result"
    }
   ],
   "source": [
    "np.array(y)"
   ]
  },
  {
   "cell_type": "code",
   "execution_count": 11,
   "id": "60a1fc1f",
   "metadata": {},
   "outputs": [],
   "source": [
    "import matplotlib.pyplot as plt"
   ]
  },
  {
   "cell_type": "code",
   "execution_count": 12,
   "id": "12953f37",
   "metadata": {},
   "outputs": [
    {
     "data": {
      "image/png": "[encoded data removed]",
      "text/plain": [
       "<Figure size 432x288 with 1 Axes>"
      ]
     },
     "metadata": {
      "needs_background": "light"
     },
     "output_type": "display_data"
    }
   ],
   "source": [
    "plt.plot(x,y)\n",
    "plt.xlabel(\"epoch\")\n",
    "plt.ylabel(\"loss\")\n",
    "plt.show()"
   ]
  },
  {
   "cell_type": "code",
   "execution_count": null,
   "id": "6fdc6e43",
   "metadata": {},
   "outputs": [],
   "source": []
  }
 ],
 "metadata": {
  "kernelspec": {
   "display_name": "pytorch_gpu",
   "language": "python",
   "name": "pytorch_gpu"
  },
  "language_info": {
   "codemirror_mode": {
    "name": "ipython",
    "version": 3
   },
   "file_extension": ".py",
   "mimetype": "text/x-python",
   "name": "python",
   "nbconvert_exporter": "python",
   "pygments_lexer": "ipython3",
   "version": "3.8.13"
  }
 },
 "nbformat": 4,
 "nbformat_minor": 5
}
