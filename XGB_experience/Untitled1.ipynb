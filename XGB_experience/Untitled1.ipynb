{
 "cells": [
  {
   "cell_type": "code",
   "execution_count": 3,
   "id": "9a3da500",
   "metadata": {},
   "outputs": [
    {
     "ename": "TimeoutError",
     "evalue": "",
     "output_type": "error",
     "traceback": [
      "\u001b[1;31m---------------------------------------------------------------------------\u001b[0m",
      "\u001b[1;31mTimeoutError\u001b[0m                              Traceback (most recent call last)",
      "Input \u001b[1;32mIn [3]\u001b[0m, in \u001b[0;36m<module>\u001b[1;34m\u001b[0m\n\u001b[0;32m      6\u001b[0m pool \u001b[38;5;241m=\u001b[39m Pool(processes\u001b[38;5;241m=\u001b[39m\u001b[38;5;241m4\u001b[39m) \u001b[38;5;66;03m# start 4 worker processes\u001b[39;00m\n\u001b[0;32m      7\u001b[0m result \u001b[38;5;241m=\u001b[39m pool\u001b[38;5;241m.\u001b[39mapply_async(f, (\u001b[38;5;241m10\u001b[39m,)) \u001b[38;5;66;03m# evaluate \"f(10)\" asynchronously in a single process\u001b[39;00m\n\u001b[1;32m----> 8\u001b[0m \u001b[38;5;28mprint\u001b[39m (\u001b[43mresult\u001b[49m\u001b[38;5;241;43m.\u001b[39;49m\u001b[43mget\u001b[49m\u001b[43m(\u001b[49m\u001b[43mtimeout\u001b[49m\u001b[38;5;241;43m=\u001b[39;49m\u001b[38;5;241;43m1\u001b[39;49m\u001b[43m)\u001b[49m) \u001b[38;5;66;03m# prints \"100\" unless your computer is *very* slow\u001b[39;00m\n\u001b[0;32m      9\u001b[0m \u001b[38;5;28mprint\u001b[39m(pool\u001b[38;5;241m.\u001b[39mmap(f, \u001b[38;5;28mrange\u001b[39m(\u001b[38;5;241m10\u001b[39m))) \u001b[38;5;66;03m# prints \"[0, 1, 4,..., 81]\"\u001b[39;00m\n\u001b[0;32m     10\u001b[0m it \u001b[38;5;241m=\u001b[39m pool\u001b[38;5;241m.\u001b[39mimap(f, \u001b[38;5;28mrange\u001b[39m(\u001b[38;5;241m10\u001b[39m))\n",
      "File \u001b[1;32mD:\\anaconda\\lib\\multiprocessing\\pool.py:767\u001b[0m, in \u001b[0;36mApplyResult.get\u001b[1;34m(self, timeout)\u001b[0m\n\u001b[0;32m    765\u001b[0m \u001b[38;5;28mself\u001b[39m\u001b[38;5;241m.\u001b[39mwait(timeout)\n\u001b[0;32m    766\u001b[0m \u001b[38;5;28;01mif\u001b[39;00m \u001b[38;5;129;01mnot\u001b[39;00m \u001b[38;5;28mself\u001b[39m\u001b[38;5;241m.\u001b[39mready():\n\u001b[1;32m--> 767\u001b[0m     \u001b[38;5;28;01mraise\u001b[39;00m \u001b[38;5;167;01mTimeoutError\u001b[39;00m\n\u001b[0;32m    768\u001b[0m \u001b[38;5;28;01mif\u001b[39;00m \u001b[38;5;28mself\u001b[39m\u001b[38;5;241m.\u001b[39m_success:\n\u001b[0;32m    769\u001b[0m     \u001b[38;5;28;01mreturn\u001b[39;00m \u001b[38;5;28mself\u001b[39m\u001b[38;5;241m.\u001b[39m_value\n",
      "\u001b[1;31mTimeoutError\u001b[0m: "
     ]
    }
   ],
   "source": [
    "from multiprocessing import Pool\n",
    "import time\n",
    "def f(x):\n",
    "     return x*x\n",
    "if __name__ == '__main__':\n",
    "     pool = Pool(processes=4) # start 4 worker processes\n",
    "     result = pool.apply_async(f, (10,)) # evaluate \"f(10)\" asynchronously in a single process\n",
    "     print (result.get(timeout=1)) # prints \"100\" unless your computer is *very* slow\n",
    "     print(pool.map(f, range(10))) # prints \"[0, 1, 4,..., 81]\"\n",
    "     it = pool.imap(f, range(10))\n",
    "     print(it.next()) # prints \"0\"\n",
    "     print (it.next()) # prints \"1\"\n",
    "     print(it.next(timeout=1)) # prints \"4\" unless your computer is *very* slow\n",
    "     result = pool.apply_async(time.sleep, (10,))\n",
    "     print(result.get(timeout=1)) # raises multiprocessing.TimeoutError\n"
   ]
  },
  {
   "cell_type": "code",
   "execution_count": null,
   "id": "dc051a79",
   "metadata": {},
   "outputs": [],
   "source": []
  }
 ],
 "metadata": {
  "kernelspec": {
   "display_name": "Python 3",
   "language": "python",
   "name": "python3"
  },
  "language_info": {
   "codemirror_mode": {
    "name": "ipython",
    "version": 3
   },
   "file_extension": ".py",
   "mimetype": "text/x-python",
   "name": "python",
   "nbconvert_exporter": "python",
   "pygments_lexer": "ipython3",
   "version": "3.8.8"
  }
 },
 "nbformat": 4,
 "nbformat_minor": 5
}
