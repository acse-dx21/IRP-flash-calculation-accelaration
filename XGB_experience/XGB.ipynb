{
 "cells": [
  {
   "cell_type": "code",
   "execution_count": 1,
   "id": "7068fa9f",
   "metadata": {},
   "outputs": [
    {
     "name": "stdout",
     "output_type": "stream",
     "text": [
      "\\\n"
     ]
    }
   ],
   "source": [
    "import sys\n",
    "sys.path.append(\"..\")\n",
    "from data import generate_data\n",
    "import tool\n",
    "import xgboost as xgb\n",
    "from data.generate_data import genertate_T, genertate_P, genertate_Zs_n\n",
    "\n",
    "from my_test import test_data_set\n",
    "from thermo import ChemicalConstantsPackage, CEOSGas, CEOSLiquid, SRKMIX, FlashVLN, PropertyCorrelationsPackage, \\\n",
    "    HeatCapacityGas\n",
    "from torch.utils.data import DataLoader\n",
    "from model import ArtificialNN\n",
    "from model.train import DeepNetwork_Train\n",
    "import torch\n",
    "import torch.nn as nn\n",
    "import thermo\n",
    "import pandas as pd\n",
    "import numpy as np\n",
    "from sklearn.model_selection import train_test_split\n",
    "\n",
    "from sklearn.multioutput import MultiOutputRegressor\n",
    "\n",
    "import random\n",
    "\n",
    "from sklearn.model_selection import GridSearchCV"
   ]
  },
  {
   "cell_type": "code",
   "execution_count": 2,
   "id": "716ec4f8",
   "metadata": {},
   "outputs": [],
   "source": [
    "%matplotlib inline  "
   ]
  },
  {
   "cell_type": "code",
   "execution_count": 3,
   "id": "e8a1c8ff",
   "metadata": {},
   "outputs": [],
   "source": [
    "# ID = ['methane', 'ethane', 'nitrogen']\n",
    "# constants, properties = ChemicalConstantsPackage.from_IDs(ID)"
   ]
  },
  {
   "cell_type": "code",
   "execution_count": 4,
   "id": "3de60f2d",
   "metadata": {},
   "outputs": [],
   "source": [
    "# pwd()"
   ]
  },
  {
   "cell_type": "code",
   "execution_count": 5,
   "id": "fa2296f8",
   "metadata": {},
   "outputs": [],
   "source": [
    "# data = pd.read_csv(\"..\\\\good_TPZ_train.csv\", comment='#')\n",
    "\n",
    "# T_set_train_all, P_set_train_all, Zs_set_train_all = generate_data.read_from_good_TPZ(\"..\\\\good_TPZ_train.csv\")\n",
    "# T_set_test_all, P_set_test_all, Zs_set_test_all = generate_data.read_from_good_TPZ(\"..\\\\good_TPZ_test.csv\")\n"
   ]
  },
  {
   "cell_type": "code",
   "execution_count": 6,
   "id": "8977fb0c",
   "metadata": {},
   "outputs": [],
   "source": [
    "# data_max=2000\n",
    "# T_set_train, P_set_train, Zs_set_train = T_set_train_all[:data_max], P_set_train_all[:data_max], Zs_set_train_all[:data_max]\n",
    "# T_set_test, P_set_test, Zs_set_test =  T_set_test_all[:data_max], P_set_test_all[:data_max], Zs_set_test_all[:data_max]\n",
    "# len(T_set_train),len(T_set_test)"
   ]
  },
  {
   "cell_type": "code",
   "execution_count": 7,
   "id": "edfd3f76",
   "metadata": {},
   "outputs": [],
   "source": [
    "# train_set = generate_data.flashdata(constants, properties, {\"T\": T_set_train, \"P\": P_set_train}, Zs_set_train, \"Vapor_Liquid\")\n",
    "# test_set = generate_data.flashdata(constants, properties, {\"T\": T_set_test, \"P\": P_set_test}, Zs_set_test, \"Vapor_Liquid\")"
   ]
  },
  {
   "cell_type": "code",
   "execution_count": 8,
   "id": "b8ffdf76",
   "metadata": {},
   "outputs": [],
   "source": [
    "# train_loader = DataLoader(train_set, shuffle=False,\n",
    "#                           batch_size=train_set.__len__(), collate_fn=generate_data.collate_VL_NParray)\n",
    "# test_loader = DataLoader(test_set, shuffle=False,\n",
    "#                           batch_size=test_set.__len__(), collate_fn=generate_data.collate_VL_NParray)"
   ]
  },
  {
   "cell_type": "code",
   "execution_count": 9,
   "id": "b8c66984",
   "metadata": {},
   "outputs": [],
   "source": [
    "# X,y =next(iter(train_loader))\n",
    "# X_train, X_test, y_train, y_test = train_test_split(X, y, test_size=0.2, random_state=1234565)"
   ]
  },
  {
   "cell_type": "code",
   "execution_count": 10,
   "id": "1d133fea",
   "metadata": {},
   "outputs": [],
   "source": [
    "# from sklearn.pipeline import Pipeline\n",
    "# from sklearn.preprocessing import MinMaxScaler\n",
    "\n",
    "# norm_pipeline = Pipeline([\n",
    "#         ('minmax_scaler', MinMaxScaler((-1,1))),\n",
    "#     ])\n",
    "\n",
    "# X_train_norm = norm_pipeline.fit_transform(X_train)\n",
    "# X_test_norm = norm_pipeline.transform(X_test)"
   ]
  },
  {
   "cell_type": "code",
   "execution_count": 11,
   "id": "fffaf645",
   "metadata": {},
   "outputs": [],
   "source": [
    "# print(X_train_norm.shape,X_test_norm.shape)\n",
    "# print(y_train.shape,y_test.shape)"
   ]
  },
  {
   "cell_type": "code",
   "execution_count": null,
   "id": "dd876f74",
   "metadata": {},
   "outputs": [],
   "source": []
  },
  {
   "cell_type": "code",
   "execution_count": 12,
   "id": "808d861a",
   "metadata": {},
   "outputs": [],
   "source": [
    "# import xgboost as xgb\n",
    "# from sklearn.model_selection import GridSearchCV\n",
    "# import time\n",
    "# param_grid = [\n",
    "#     # try combinations of hyperparameters\n",
    "#     {'subsample': [0.2, 0.6, 1.0], \n",
    "#      'learning_rate': [0.01, 0.05, 0.1],\n",
    "#      'n_estimators': [300, 400, 500], \n",
    "#      'max_depth': [3, 5, 10],\n",
    "#      'colsample_bytree': [0.6, 0.8, 1.0]}\n",
    "#     ]\n",
    "\n",
    "# # train across 3 folds\n",
    "# grid_search = GridSearchCV(xgb.XGBRegressor(objective='reg:squarederror', n_jobs=3, random_state=42),\n",
    "#                            param_grid, \n",
    "#                            cv=3,\n",
    "#                            scoring='neg_mean_squared_error',\n",
    "#                            return_train_score=True, \n",
    "#                            verbose = 1,\n",
    "#                            n_jobs= 25)\n",
    "\n",
    "# start = time.time()\n",
    "# grid_search.fit(X_train_norm, y_train)\n",
    "# print(\"Run time = \", time.time()-start)"
   ]
  },
  {
   "cell_type": "code",
   "execution_count": 13,
   "id": "e81daba2",
   "metadata": {},
   "outputs": [],
   "source": [
    "# print(f\"best parameters: {grid_search.best_params_}\")\n",
    "# print(f\"best score:      {-grid_search.best_score_:0.5f} (+/-{grid_search.cv_results_['std_test_score'][grid_search.best_index_]:0.5f})\")\n",
    "    "
   ]
  },
  {
   "cell_type": "code",
   "execution_count": 14,
   "id": "ddfa1e0a",
   "metadata": {},
   "outputs": [],
   "source": [
    "# results_df = pd.DataFrame(grid_search.cv_results_)\n",
    "# results_df = results_df.sort_values(by=[\"rank_test_score\"])\n",
    "# results_df[[\"params\", \"rank_test_score\", \"mean_train_score\", \"std_train_score\", \"mean_test_score\", \"std_test_score\"]]"
   ]
  },
  {
   "cell_type": "code",
   "execution_count": 15,
   "id": "7d9d05fb",
   "metadata": {},
   "outputs": [],
   "source": [
    "# torch.save(model.state_dict(), model_path)"
   ]
  },
  {
   "cell_type": "code",
   "execution_count": 16,
   "id": "4f94c1b5",
   "metadata": {},
   "outputs": [],
   "source": [
    "# pwd()"
   ]
  },
  {
   "cell_type": "code",
   "execution_count": 17,
   "id": "b9a31fa8",
   "metadata": {},
   "outputs": [],
   "source": [
    "# plot_data=pd.read_csv(\"simple_ANN.csv\")"
   ]
  },
  {
   "cell_type": "code",
   "execution_count": 18,
   "id": "8a254ce6",
   "metadata": {},
   "outputs": [],
   "source": [
    "# x=np.array(plot_data[\"epoch\"])[:-1]\n",
    "# y=np.array(plot_data[\"loss\"])[:-1]"
   ]
  },
  {
   "cell_type": "code",
   "execution_count": 19,
   "id": "2669b521",
   "metadata": {},
   "outputs": [],
   "source": [
    "# np.array(y)"
   ]
  },
  {
   "cell_type": "code",
   "execution_count": 20,
   "id": "60a1fc1f",
   "metadata": {},
   "outputs": [],
   "source": [
    "# import matplotlib.pyplot as plt"
   ]
  },
  {
   "cell_type": "code",
   "execution_count": 21,
   "id": "12953f37",
   "metadata": {},
   "outputs": [],
   "source": [
    "# plt.plot(x,y)\n",
    "# plt.xlabel(\"epoch\")\n",
    "# plt.ylabel(\"loss\")\n",
    "# plt.show()"
   ]
  },
  {
   "cell_type": "code",
   "execution_count": 22,
   "id": "0fd2b08f",
   "metadata": {},
   "outputs": [],
   "source": [
    "# from sklearn.ensemble import RandomForestRegressor\n",
    "# from sklearn.multioutput import MultiOutputRegressor"
   ]
  },
  {
   "cell_type": "code",
   "execution_count": 23,
   "id": "601b4fb3",
   "metadata": {},
   "outputs": [],
   "source": [
    "# param_grid = [\n",
    "#     # try combinations of hyperparameters\n",
    "#     {\n",
    "#      'n_estimators': [300, 400, 500], \n",
    "#     ]\n",
    "\n",
    "# # train across 3 folds\n",
    "# forest = RandomForestRegressor(n_estimators=100, random_state=1)  # 生成随机森林多分类器\n",
    "# grid_random_forest=GridSearchCV(forest,param_grid,cv=3,scoring=\"accuracy\")\n",
    "        \n",
    "# multi_target_forest = MultiOutputRegressor(grid_random_forest)  # 构建多输出多分类器\n"
   ]
  },
  {
   "cell_type": "code",
   "execution_count": 24,
   "id": "344f80ce",
   "metadata": {},
   "outputs": [],
   "source": [
    "# X_train.shape"
   ]
  },
  {
   "cell_type": "code",
   "execution_count": 25,
   "id": "95376410",
   "metadata": {},
   "outputs": [],
   "source": [
    "# one_y_train=y_train[:,0]"
   ]
  },
  {
   "cell_type": "code",
   "execution_count": 26,
   "id": "0ad292ef",
   "metadata": {},
   "outputs": [],
   "source": [
    "# one_y_train.shape"
   ]
  },
  {
   "cell_type": "code",
   "execution_count": 27,
   "id": "1b191129",
   "metadata": {},
   "outputs": [],
   "source": [
    "# multi_target_forest.fit(X_train,y_train)"
   ]
  },
  {
   "cell_type": "code",
   "execution_count": 28,
   "id": "12ab9efa",
   "metadata": {},
   "outputs": [],
   "source": [
    "# multi_target_forest.score(X_test,y_test)"
   ]
  },
  {
   "cell_type": "code",
   "execution_count": 29,
   "id": "cb78c503",
   "metadata": {},
   "outputs": [],
   "source": [
    "# multi_target_forest.get_params().keys"
   ]
  },
  {
   "cell_type": "code",
   "execution_count": 30,
   "id": "66ea60ab",
   "metadata": {},
   "outputs": [],
   "source": [
    "# multi_target_forest.fit(X_train,y_train)"
   ]
  },
  {
   "cell_type": "markdown",
   "id": "0d521eef",
   "metadata": {},
   "source": [
    "### score in XGboost"
   ]
  },
  {
   "cell_type": "code",
   "execution_count": 31,
   "id": "7bb721df",
   "metadata": {},
   "outputs": [],
   "source": [
    "# multi_target_forest.score(X_test,y_test)"
   ]
  },
  {
   "cell_type": "code",
   "execution_count": 32,
   "id": "0d046048",
   "metadata": {},
   "outputs": [],
   "source": [
    "# X.shape\n",
    "# import time"
   ]
  },
  {
   "cell_type": "code",
   "execution_count": 33,
   "id": "17c15719",
   "metadata": {},
   "outputs": [],
   "source": [
    "# data=generate_data.Generate_data_from_csv(\"..\\\\good_TPZ_train.csv\", \"..\\\\good_TPZ_test.csv\")\n",
    "\n",
    "# xgbReg =xgb.XGBRegressor(n_estimators=200)\n",
    "# from sklearn.pipeline import Pipeline\n",
    "# from sklearn.preprocessing import MinMaxScaler\n"
   ]
  },
  {
   "cell_type": "code",
   "execution_count": 34,
   "id": "a4c72382",
   "metadata": {},
   "outputs": [],
   "source": [
    "# from sklearn.metrics import mean_squared_error"
   ]
  },
  {
   "cell_type": "code",
   "execution_count": 35,
   "id": "5e97b164",
   "metadata": {
    "scrolled": true
   },
   "outputs": [],
   "source": [
    "# logs=tool.log.data_num_log(\"data_num_log_MSE\")\n",
    "# start = time.time()\n",
    "# for Num_data in range(1000,100000,1000):\n",
    "#     X_train,y_train,X_test,y_test=data.to_numpy(Num_data)\n",
    "#     norm=Pipeline([(\"minmax_scaler\",MinMaxScaler((-1,1))),])\n",
    "#     X_train_norm, X_test_norm =norm.fit_transform(X_train),norm.fit_transform(X_test) \n",
    "#     xgbReg =xgb.XGBRegressor(n_estimators=200)\n",
    "#     xgbReg.fit(X_train, y_train)\n",
    "#     score=mean_squared_error(xgbReg.predict(X_test),y_test)\n",
    "#     logs({\"Num_data\":Num_data,\"score\":score})\n",
    "#     print(score)\n",
    "# print(\"Run time = \", time.time()-start)"
   ]
  },
  {
   "cell_type": "code",
   "execution_count": 36,
   "id": "7b6ac5bb",
   "metadata": {},
   "outputs": [],
   "source": [
    "# logs.release()"
   ]
  },
  {
   "cell_type": "code",
   "execution_count": 37,
   "id": "c1afd611",
   "metadata": {},
   "outputs": [],
   "source": [
    "# import seaborn as sns"
   ]
  },
  {
   "cell_type": "code",
   "execution_count": 38,
   "id": "287c2afd",
   "metadata": {},
   "outputs": [],
   "source": [
    "# num_pd=pd.read_csv(\"data_num_log_MSE.csv\")\n",
    "\n",
    "# sns.lineplot(x=\"Num_data\",y=\"score\",data=num_pd)"
   ]
  },
  {
   "cell_type": "code",
   "execution_count": 39,
   "id": "ef432025",
   "metadata": {},
   "outputs": [],
   "source": [
    "# num_pd"
   ]
  },
  {
   "cell_type": "code",
   "execution_count": 40,
   "id": "e342882d",
   "metadata": {},
   "outputs": [],
   "source": [
    "All_ID = ['Methane','Ethane', 'Propane', 'N-Butane','N-Pentane', 'N-Hexane', 'Heptane']"
   ]
  },
  {
   "cell_type": "code",
   "execution_count": 41,
   "id": "18d45dce",
   "metadata": {},
   "outputs": [],
   "source": [
    "from itertools import combinations"
   ]
  },
  {
   "cell_type": "code",
   "execution_count": 42,
   "id": "64083131",
   "metadata": {},
   "outputs": [],
   "source": [
    "from sklearn.model_selection import GridSearchCV\n",
    "import time\n",
    "param_grid = [\n",
    "        # try combinations of hyperparameters\n",
    "        {'subsample': [0.2, 0.6, 1.0], \n",
    "         'learning_rate': [0.01, 0.05, 0.1],\n",
    "         'n_estimators': [300, 400, 500], \n",
    "         'max_depth': [3, 5, 10],\n",
    "         'colsample_bytree': [0.6],\n",
    "         'reg_lambda': [10]}  \n",
    "        ]\n",
    "\n",
    "def grid_i(X_train,y_train):\n",
    " \n",
    "\n",
    "    # train across 3 folds\n",
    "    grid_search = GridSearchCV(xgb.XGBRegressor(objective='reg:squarederror', n_jobs=3, random_state=42),\n",
    "                               param_grid, \n",
    "                               cv=3,\n",
    "                               scoring='neg_mean_squared_error',\n",
    "                               return_train_score=True, \n",
    "                               verbose = 1,\n",
    "                               n_jobs= 2)\n",
    "\n",
    "    start = time.time()\n",
    "    grid_search.fit(X_train, y_train)\n",
    "    print(\"Run time = \", time.time()-start)\n",
    "    return grid_search"
   ]
  },
  {
   "cell_type": "code",
   "execution_count": 44,
   "id": "e4b29462",
   "metadata": {
    "scrolled": true
   },
   "outputs": [
    {
     "name": "stdout",
     "output_type": "stream",
     "text": [
      "('Methane', 'N-Hexane') True\n",
      "('Methane', 'N-Pentane') True\n",
      "('Methane', 'Propane') True\n",
      "('N-Butane', 'Heptane') False\n",
      "('N-Butane', 'Heptane')\n",
      "Fitting 3 folds for each of 81 candidates, totalling 243 fits\n"
     ]
    },
    {
     "ename": "KeyboardInterrupt",
     "evalue": "",
     "output_type": "error",
     "traceback": [
      "\u001b[1;31m---------------------------------------------------------------------------\u001b[0m",
      "\u001b[1;31mKeyboardInterrupt\u001b[0m                         Traceback (most recent call last)",
      "Input \u001b[1;32mIn [44]\u001b[0m, in \u001b[0;36m<module>\u001b[1;34m\u001b[0m\n\u001b[0;32m     20\u001b[0m Intermediate_path\u001b[38;5;241m=\u001b[39m\u001b[38;5;124m\"\u001b[39m\u001b[38;5;124mmix_\u001b[39m\u001b[38;5;124m\"\u001b[39m\u001b[38;5;241m+\u001b[39m\u001b[38;5;28mstr\u001b[39m(\u001b[38;5;28mlen\u001b[39m(Material_ID))\u001b[38;5;241m+\u001b[39mos\u001b[38;5;241m.\u001b[39msep\n\u001b[0;32m     21\u001b[0m \u001b[38;5;28mprint\u001b[39m(Material_ID)\n\u001b[1;32m---> 22\u001b[0m grid_search_i\u001b[38;5;241m=\u001b[39m\u001b[43mgrid_i\u001b[49m\u001b[43m(\u001b[49m\u001b[43mX_train\u001b[49m\u001b[43m,\u001b[49m\u001b[43my_train\u001b[49m\u001b[43m)\u001b[49m\n\u001b[0;32m     24\u001b[0m \u001b[38;5;28mprint\u001b[39m(\u001b[38;5;124mf\u001b[39m\u001b[38;5;124m\"\u001b[39m\u001b[38;5;124mbest parameters: \u001b[39m\u001b[38;5;132;01m{\u001b[39;00mgrid_search_i\u001b[38;5;241m.\u001b[39mbest_params_\u001b[38;5;132;01m}\u001b[39;00m\u001b[38;5;124m\"\u001b[39m)\n\u001b[0;32m     25\u001b[0m \u001b[38;5;28mprint\u001b[39m(\u001b[38;5;124mf\u001b[39m\u001b[38;5;124m\"\u001b[39m\u001b[38;5;124mbest score:      \u001b[39m\u001b[38;5;132;01m{\u001b[39;00m\u001b[38;5;241m-\u001b[39mgrid_search_i\u001b[38;5;241m.\u001b[39mbest_score_\u001b[38;5;132;01m:\u001b[39;00m\u001b[38;5;124m0.5f\u001b[39m\u001b[38;5;132;01m}\u001b[39;00m\u001b[38;5;124m (+/-\u001b[39m\u001b[38;5;132;01m{\u001b[39;00mgrid_search_i\u001b[38;5;241m.\u001b[39mcv_results_[\u001b[38;5;124m'\u001b[39m\u001b[38;5;124mstd_test_score\u001b[39m\u001b[38;5;124m'\u001b[39m][grid_search_i\u001b[38;5;241m.\u001b[39mbest_index_]\u001b[38;5;132;01m:\u001b[39;00m\u001b[38;5;124m0.5f\u001b[39m\u001b[38;5;132;01m}\u001b[39;00m\u001b[38;5;124m)\u001b[39m\u001b[38;5;124m\"\u001b[39m)\n",
      "Input \u001b[1;32mIn [42]\u001b[0m, in \u001b[0;36mgrid_i\u001b[1;34m(X_train, y_train)\u001b[0m\n\u001b[0;32m     17\u001b[0m grid_search \u001b[38;5;241m=\u001b[39m GridSearchCV(xgb\u001b[38;5;241m.\u001b[39mXGBRegressor(objective\u001b[38;5;241m=\u001b[39m\u001b[38;5;124m'\u001b[39m\u001b[38;5;124mreg:squarederror\u001b[39m\u001b[38;5;124m'\u001b[39m, n_jobs\u001b[38;5;241m=\u001b[39m\u001b[38;5;241m3\u001b[39m, random_state\u001b[38;5;241m=\u001b[39m\u001b[38;5;241m42\u001b[39m),\n\u001b[0;32m     18\u001b[0m                            param_grid, \n\u001b[0;32m     19\u001b[0m                            cv\u001b[38;5;241m=\u001b[39m\u001b[38;5;241m3\u001b[39m,\n\u001b[1;32m   (...)\u001b[0m\n\u001b[0;32m     22\u001b[0m                            verbose \u001b[38;5;241m=\u001b[39m \u001b[38;5;241m1\u001b[39m,\n\u001b[0;32m     23\u001b[0m                            n_jobs\u001b[38;5;241m=\u001b[39m \u001b[38;5;241m2\u001b[39m)\n\u001b[0;32m     25\u001b[0m start \u001b[38;5;241m=\u001b[39m time\u001b[38;5;241m.\u001b[39mtime()\n\u001b[1;32m---> 26\u001b[0m \u001b[43mgrid_search\u001b[49m\u001b[38;5;241;43m.\u001b[39;49m\u001b[43mfit\u001b[49m\u001b[43m(\u001b[49m\u001b[43mX_train\u001b[49m\u001b[43m,\u001b[49m\u001b[43m \u001b[49m\u001b[43my_train\u001b[49m\u001b[43m)\u001b[49m\n\u001b[0;32m     27\u001b[0m \u001b[38;5;28mprint\u001b[39m(\u001b[38;5;124m\"\u001b[39m\u001b[38;5;124mRun time = \u001b[39m\u001b[38;5;124m\"\u001b[39m, time\u001b[38;5;241m.\u001b[39mtime()\u001b[38;5;241m-\u001b[39mstart)\n\u001b[0;32m     28\u001b[0m \u001b[38;5;28;01mreturn\u001b[39;00m grid_search\n",
      "File \u001b[1;32mD:\\anaconda\\lib\\site-packages\\sklearn\\model_selection\\_search.py:875\u001b[0m, in \u001b[0;36mBaseSearchCV.fit\u001b[1;34m(self, X, y, groups, **fit_params)\u001b[0m\n\u001b[0;32m    869\u001b[0m     results \u001b[38;5;241m=\u001b[39m \u001b[38;5;28mself\u001b[39m\u001b[38;5;241m.\u001b[39m_format_results(\n\u001b[0;32m    870\u001b[0m         all_candidate_params, n_splits, all_out, all_more_results\n\u001b[0;32m    871\u001b[0m     )\n\u001b[0;32m    873\u001b[0m     \u001b[38;5;28;01mreturn\u001b[39;00m results\n\u001b[1;32m--> 875\u001b[0m \u001b[38;5;28;43mself\u001b[39;49m\u001b[38;5;241;43m.\u001b[39;49m\u001b[43m_run_search\u001b[49m\u001b[43m(\u001b[49m\u001b[43mevaluate_candidates\u001b[49m\u001b[43m)\u001b[49m\n\u001b[0;32m    877\u001b[0m \u001b[38;5;66;03m# multimetric is determined here because in the case of a callable\u001b[39;00m\n\u001b[0;32m    878\u001b[0m \u001b[38;5;66;03m# self.scoring the return type is only known after calling\u001b[39;00m\n\u001b[0;32m    879\u001b[0m first_test_score \u001b[38;5;241m=\u001b[39m all_out[\u001b[38;5;241m0\u001b[39m][\u001b[38;5;124m\"\u001b[39m\u001b[38;5;124mtest_scores\u001b[39m\u001b[38;5;124m\"\u001b[39m]\n",
      "File \u001b[1;32mD:\\anaconda\\lib\\site-packages\\sklearn\\model_selection\\_search.py:1375\u001b[0m, in \u001b[0;36mGridSearchCV._run_search\u001b[1;34m(self, evaluate_candidates)\u001b[0m\n\u001b[0;32m   1373\u001b[0m \u001b[38;5;28;01mdef\u001b[39;00m \u001b[38;5;21m_run_search\u001b[39m(\u001b[38;5;28mself\u001b[39m, evaluate_candidates):\n\u001b[0;32m   1374\u001b[0m     \u001b[38;5;124;03m\"\"\"Search all candidates in param_grid\"\"\"\u001b[39;00m\n\u001b[1;32m-> 1375\u001b[0m     \u001b[43mevaluate_candidates\u001b[49m\u001b[43m(\u001b[49m\u001b[43mParameterGrid\u001b[49m\u001b[43m(\u001b[49m\u001b[38;5;28;43mself\u001b[39;49m\u001b[38;5;241;43m.\u001b[39;49m\u001b[43mparam_grid\u001b[49m\u001b[43m)\u001b[49m\u001b[43m)\u001b[49m\n",
      "File \u001b[1;32mD:\\anaconda\\lib\\site-packages\\sklearn\\model_selection\\_search.py:822\u001b[0m, in \u001b[0;36mBaseSearchCV.fit.<locals>.evaluate_candidates\u001b[1;34m(candidate_params, cv, more_results)\u001b[0m\n\u001b[0;32m    814\u001b[0m \u001b[38;5;28;01mif\u001b[39;00m \u001b[38;5;28mself\u001b[39m\u001b[38;5;241m.\u001b[39mverbose \u001b[38;5;241m>\u001b[39m \u001b[38;5;241m0\u001b[39m:\n\u001b[0;32m    815\u001b[0m     \u001b[38;5;28mprint\u001b[39m(\n\u001b[0;32m    816\u001b[0m         \u001b[38;5;124m\"\u001b[39m\u001b[38;5;124mFitting \u001b[39m\u001b[38;5;132;01m{0}\u001b[39;00m\u001b[38;5;124m folds for each of \u001b[39m\u001b[38;5;132;01m{1}\u001b[39;00m\u001b[38;5;124m candidates,\u001b[39m\u001b[38;5;124m\"\u001b[39m\n\u001b[0;32m    817\u001b[0m         \u001b[38;5;124m\"\u001b[39m\u001b[38;5;124m totalling \u001b[39m\u001b[38;5;132;01m{2}\u001b[39;00m\u001b[38;5;124m fits\u001b[39m\u001b[38;5;124m\"\u001b[39m\u001b[38;5;241m.\u001b[39mformat(\n\u001b[0;32m    818\u001b[0m             n_splits, n_candidates, n_candidates \u001b[38;5;241m*\u001b[39m n_splits\n\u001b[0;32m    819\u001b[0m         )\n\u001b[0;32m    820\u001b[0m     )\n\u001b[1;32m--> 822\u001b[0m out \u001b[38;5;241m=\u001b[39m \u001b[43mparallel\u001b[49m\u001b[43m(\u001b[49m\n\u001b[0;32m    823\u001b[0m \u001b[43m    \u001b[49m\u001b[43mdelayed\u001b[49m\u001b[43m(\u001b[49m\u001b[43m_fit_and_score\u001b[49m\u001b[43m)\u001b[49m\u001b[43m(\u001b[49m\n\u001b[0;32m    824\u001b[0m \u001b[43m        \u001b[49m\u001b[43mclone\u001b[49m\u001b[43m(\u001b[49m\u001b[43mbase_estimator\u001b[49m\u001b[43m)\u001b[49m\u001b[43m,\u001b[49m\n\u001b[0;32m    825\u001b[0m \u001b[43m        \u001b[49m\u001b[43mX\u001b[49m\u001b[43m,\u001b[49m\n\u001b[0;32m    826\u001b[0m \u001b[43m        \u001b[49m\u001b[43my\u001b[49m\u001b[43m,\u001b[49m\n\u001b[0;32m    827\u001b[0m \u001b[43m        \u001b[49m\u001b[43mtrain\u001b[49m\u001b[38;5;241;43m=\u001b[39;49m\u001b[43mtrain\u001b[49m\u001b[43m,\u001b[49m\n\u001b[0;32m    828\u001b[0m \u001b[43m        \u001b[49m\u001b[43mtest\u001b[49m\u001b[38;5;241;43m=\u001b[39;49m\u001b[43mtest\u001b[49m\u001b[43m,\u001b[49m\n\u001b[0;32m    829\u001b[0m \u001b[43m        \u001b[49m\u001b[43mparameters\u001b[49m\u001b[38;5;241;43m=\u001b[39;49m\u001b[43mparameters\u001b[49m\u001b[43m,\u001b[49m\n\u001b[0;32m    830\u001b[0m \u001b[43m        \u001b[49m\u001b[43msplit_progress\u001b[49m\u001b[38;5;241;43m=\u001b[39;49m\u001b[43m(\u001b[49m\u001b[43msplit_idx\u001b[49m\u001b[43m,\u001b[49m\u001b[43m \u001b[49m\u001b[43mn_splits\u001b[49m\u001b[43m)\u001b[49m\u001b[43m,\u001b[49m\n\u001b[0;32m    831\u001b[0m \u001b[43m        \u001b[49m\u001b[43mcandidate_progress\u001b[49m\u001b[38;5;241;43m=\u001b[39;49m\u001b[43m(\u001b[49m\u001b[43mcand_idx\u001b[49m\u001b[43m,\u001b[49m\u001b[43m \u001b[49m\u001b[43mn_candidates\u001b[49m\u001b[43m)\u001b[49m\u001b[43m,\u001b[49m\n\u001b[0;32m    832\u001b[0m \u001b[43m        \u001b[49m\u001b[38;5;241;43m*\u001b[39;49m\u001b[38;5;241;43m*\u001b[39;49m\u001b[43mfit_and_score_kwargs\u001b[49m\u001b[43m,\u001b[49m\n\u001b[0;32m    833\u001b[0m \u001b[43m    \u001b[49m\u001b[43m)\u001b[49m\n\u001b[0;32m    834\u001b[0m \u001b[43m    \u001b[49m\u001b[38;5;28;43;01mfor\u001b[39;49;00m\u001b[43m \u001b[49m\u001b[43m(\u001b[49m\u001b[43mcand_idx\u001b[49m\u001b[43m,\u001b[49m\u001b[43m \u001b[49m\u001b[43mparameters\u001b[49m\u001b[43m)\u001b[49m\u001b[43m,\u001b[49m\u001b[43m \u001b[49m\u001b[43m(\u001b[49m\u001b[43msplit_idx\u001b[49m\u001b[43m,\u001b[49m\u001b[43m \u001b[49m\u001b[43m(\u001b[49m\u001b[43mtrain\u001b[49m\u001b[43m,\u001b[49m\u001b[43m \u001b[49m\u001b[43mtest\u001b[49m\u001b[43m)\u001b[49m\u001b[43m)\u001b[49m\u001b[43m \u001b[49m\u001b[38;5;129;43;01min\u001b[39;49;00m\u001b[43m \u001b[49m\u001b[43mproduct\u001b[49m\u001b[43m(\u001b[49m\n\u001b[0;32m    835\u001b[0m \u001b[43m        \u001b[49m\u001b[38;5;28;43menumerate\u001b[39;49m\u001b[43m(\u001b[49m\u001b[43mcandidate_params\u001b[49m\u001b[43m)\u001b[49m\u001b[43m,\u001b[49m\u001b[43m \u001b[49m\u001b[38;5;28;43menumerate\u001b[39;49m\u001b[43m(\u001b[49m\u001b[43mcv\u001b[49m\u001b[38;5;241;43m.\u001b[39;49m\u001b[43msplit\u001b[49m\u001b[43m(\u001b[49m\u001b[43mX\u001b[49m\u001b[43m,\u001b[49m\u001b[43m \u001b[49m\u001b[43my\u001b[49m\u001b[43m,\u001b[49m\u001b[43m \u001b[49m\u001b[43mgroups\u001b[49m\u001b[43m)\u001b[49m\u001b[43m)\u001b[49m\n\u001b[0;32m    836\u001b[0m \u001b[43m    \u001b[49m\u001b[43m)\u001b[49m\n\u001b[0;32m    837\u001b[0m \u001b[43m\u001b[49m\u001b[43m)\u001b[49m\n\u001b[0;32m    839\u001b[0m \u001b[38;5;28;01mif\u001b[39;00m \u001b[38;5;28mlen\u001b[39m(out) \u001b[38;5;241m<\u001b[39m \u001b[38;5;241m1\u001b[39m:\n\u001b[0;32m    840\u001b[0m     \u001b[38;5;28;01mraise\u001b[39;00m \u001b[38;5;167;01mValueError\u001b[39;00m(\n\u001b[0;32m    841\u001b[0m         \u001b[38;5;124m\"\u001b[39m\u001b[38;5;124mNo fits were performed. \u001b[39m\u001b[38;5;124m\"\u001b[39m\n\u001b[0;32m    842\u001b[0m         \u001b[38;5;124m\"\u001b[39m\u001b[38;5;124mWas the CV iterator empty? \u001b[39m\u001b[38;5;124m\"\u001b[39m\n\u001b[0;32m    843\u001b[0m         \u001b[38;5;124m\"\u001b[39m\u001b[38;5;124mWere there no candidates?\u001b[39m\u001b[38;5;124m\"\u001b[39m\n\u001b[0;32m    844\u001b[0m     )\n",
      "File \u001b[1;32mD:\\anaconda\\lib\\site-packages\\joblib\\parallel.py:1056\u001b[0m, in \u001b[0;36mParallel.__call__\u001b[1;34m(self, iterable)\u001b[0m\n\u001b[0;32m   1053\u001b[0m     \u001b[38;5;28mself\u001b[39m\u001b[38;5;241m.\u001b[39m_iterating \u001b[38;5;241m=\u001b[39m \u001b[38;5;28;01mFalse\u001b[39;00m\n\u001b[0;32m   1055\u001b[0m \u001b[38;5;28;01mwith\u001b[39;00m \u001b[38;5;28mself\u001b[39m\u001b[38;5;241m.\u001b[39m_backend\u001b[38;5;241m.\u001b[39mretrieval_context():\n\u001b[1;32m-> 1056\u001b[0m     \u001b[38;5;28;43mself\u001b[39;49m\u001b[38;5;241;43m.\u001b[39;49m\u001b[43mretrieve\u001b[49m\u001b[43m(\u001b[49m\u001b[43m)\u001b[49m\n\u001b[0;32m   1057\u001b[0m \u001b[38;5;66;03m# Make sure that we get a last message telling us we are done\u001b[39;00m\n\u001b[0;32m   1058\u001b[0m elapsed_time \u001b[38;5;241m=\u001b[39m time\u001b[38;5;241m.\u001b[39mtime() \u001b[38;5;241m-\u001b[39m \u001b[38;5;28mself\u001b[39m\u001b[38;5;241m.\u001b[39m_start_time\n",
      "File \u001b[1;32mD:\\anaconda\\lib\\site-packages\\joblib\\parallel.py:935\u001b[0m, in \u001b[0;36mParallel.retrieve\u001b[1;34m(self)\u001b[0m\n\u001b[0;32m    933\u001b[0m \u001b[38;5;28;01mtry\u001b[39;00m:\n\u001b[0;32m    934\u001b[0m     \u001b[38;5;28;01mif\u001b[39;00m \u001b[38;5;28mgetattr\u001b[39m(\u001b[38;5;28mself\u001b[39m\u001b[38;5;241m.\u001b[39m_backend, \u001b[38;5;124m'\u001b[39m\u001b[38;5;124msupports_timeout\u001b[39m\u001b[38;5;124m'\u001b[39m, \u001b[38;5;28;01mFalse\u001b[39;00m):\n\u001b[1;32m--> 935\u001b[0m         \u001b[38;5;28mself\u001b[39m\u001b[38;5;241m.\u001b[39m_output\u001b[38;5;241m.\u001b[39mextend(\u001b[43mjob\u001b[49m\u001b[38;5;241;43m.\u001b[39;49m\u001b[43mget\u001b[49m\u001b[43m(\u001b[49m\u001b[43mtimeout\u001b[49m\u001b[38;5;241;43m=\u001b[39;49m\u001b[38;5;28;43mself\u001b[39;49m\u001b[38;5;241;43m.\u001b[39;49m\u001b[43mtimeout\u001b[49m\u001b[43m)\u001b[49m)\n\u001b[0;32m    936\u001b[0m     \u001b[38;5;28;01melse\u001b[39;00m:\n\u001b[0;32m    937\u001b[0m         \u001b[38;5;28mself\u001b[39m\u001b[38;5;241m.\u001b[39m_output\u001b[38;5;241m.\u001b[39mextend(job\u001b[38;5;241m.\u001b[39mget())\n",
      "File \u001b[1;32mD:\\anaconda\\lib\\site-packages\\joblib\\_parallel_backends.py:542\u001b[0m, in \u001b[0;36mLokyBackend.wrap_future_result\u001b[1;34m(future, timeout)\u001b[0m\n\u001b[0;32m    539\u001b[0m \u001b[38;5;124;03m\"\"\"Wrapper for Future.result to implement the same behaviour as\u001b[39;00m\n\u001b[0;32m    540\u001b[0m \u001b[38;5;124;03mAsyncResults.get from multiprocessing.\"\"\"\u001b[39;00m\n\u001b[0;32m    541\u001b[0m \u001b[38;5;28;01mtry\u001b[39;00m:\n\u001b[1;32m--> 542\u001b[0m     \u001b[38;5;28;01mreturn\u001b[39;00m \u001b[43mfuture\u001b[49m\u001b[38;5;241;43m.\u001b[39;49m\u001b[43mresult\u001b[49m\u001b[43m(\u001b[49m\u001b[43mtimeout\u001b[49m\u001b[38;5;241;43m=\u001b[39;49m\u001b[43mtimeout\u001b[49m\u001b[43m)\u001b[49m\n\u001b[0;32m    543\u001b[0m \u001b[38;5;28;01mexcept\u001b[39;00m CfTimeoutError \u001b[38;5;28;01mas\u001b[39;00m e:\n\u001b[0;32m    544\u001b[0m     \u001b[38;5;28;01mraise\u001b[39;00m \u001b[38;5;167;01mTimeoutError\u001b[39;00m \u001b[38;5;28;01mfrom\u001b[39;00m \u001b[38;5;21;01me\u001b[39;00m\n",
      "File \u001b[1;32mD:\\anaconda\\lib\\concurrent\\futures\\_base.py:434\u001b[0m, in \u001b[0;36mFuture.result\u001b[1;34m(self, timeout)\u001b[0m\n\u001b[0;32m    431\u001b[0m \u001b[38;5;28;01melif\u001b[39;00m \u001b[38;5;28mself\u001b[39m\u001b[38;5;241m.\u001b[39m_state \u001b[38;5;241m==\u001b[39m FINISHED:\n\u001b[0;32m    432\u001b[0m     \u001b[38;5;28;01mreturn\u001b[39;00m \u001b[38;5;28mself\u001b[39m\u001b[38;5;241m.\u001b[39m__get_result()\n\u001b[1;32m--> 434\u001b[0m \u001b[38;5;28;43mself\u001b[39;49m\u001b[38;5;241;43m.\u001b[39;49m\u001b[43m_condition\u001b[49m\u001b[38;5;241;43m.\u001b[39;49m\u001b[43mwait\u001b[49m\u001b[43m(\u001b[49m\u001b[43mtimeout\u001b[49m\u001b[43m)\u001b[49m\n\u001b[0;32m    436\u001b[0m \u001b[38;5;28;01mif\u001b[39;00m \u001b[38;5;28mself\u001b[39m\u001b[38;5;241m.\u001b[39m_state \u001b[38;5;129;01min\u001b[39;00m [CANCELLED, CANCELLED_AND_NOTIFIED]:\n\u001b[0;32m    437\u001b[0m     \u001b[38;5;28;01mraise\u001b[39;00m CancelledError()\n",
      "File \u001b[1;32mD:\\anaconda\\lib\\threading.py:302\u001b[0m, in \u001b[0;36mCondition.wait\u001b[1;34m(self, timeout)\u001b[0m\n\u001b[0;32m    300\u001b[0m \u001b[38;5;28;01mtry\u001b[39;00m:    \u001b[38;5;66;03m# restore state no matter what (e.g., KeyboardInterrupt)\u001b[39;00m\n\u001b[0;32m    301\u001b[0m     \u001b[38;5;28;01mif\u001b[39;00m timeout \u001b[38;5;129;01mis\u001b[39;00m \u001b[38;5;28;01mNone\u001b[39;00m:\n\u001b[1;32m--> 302\u001b[0m         \u001b[43mwaiter\u001b[49m\u001b[38;5;241;43m.\u001b[39;49m\u001b[43macquire\u001b[49m\u001b[43m(\u001b[49m\u001b[43m)\u001b[49m\n\u001b[0;32m    303\u001b[0m         gotit \u001b[38;5;241m=\u001b[39m \u001b[38;5;28;01mTrue\u001b[39;00m\n\u001b[0;32m    304\u001b[0m     \u001b[38;5;28;01melse\u001b[39;00m:\n",
      "\u001b[1;31mKeyboardInterrupt\u001b[0m: "
     ]
    }
   ],
   "source": [
    "xgbReg =xgb.XGBRegressor(n_estimators=200)\n",
    "from sklearn.pipeline import Pipeline\n",
    "from sklearn.preprocessing import MinMaxScaler\n",
    "from model.train import check_IDexist\n",
    "from tool.log import log\n",
    "\n",
    "\n",
    "\n",
    "import os\n",
    "data_path=\"..\"+os.sep+\"cleaned_data\"+os.sep\n",
    "result_path=\".\"+os.sep+\"result_data\"+os.sep\n",
    "result_by_all_data=log(\"result_by_all_data\",[\"parameter\",\"score\"])\n",
    "\n",
    "all_data=generate_data.multicsv_data_generater(data_path)\n",
    "for i in range(15,len(all_data)):\n",
    "    X_train,y_train,X_test,y_test,Material_ID=all_data[i]\n",
    "    print(Material_ID,check_IDexist(Material_ID,result_path))\n",
    "    if not check_IDexist(Material_ID,result_path):\n",
    "        \n",
    "        Intermediate_path=\"mix_\"+str(len(Material_ID))+os.sep\n",
    "        print(Material_ID)\n",
    "        grid_search_i=grid_i(X_train,y_train)\n",
    "\n",
    "        print(f\"best parameters: {grid_search_i.best_params_}\")\n",
    "        print(f\"best score:      {-grid_search_i.best_score_:0.5f} (+/-{grid_search_i.cv_results_['std_test_score'][grid_search_i.best_index_]:0.5f})\")\n",
    "        results_dfi = pd.DataFrame(grid_search_i.cv_results_)\n",
    "        results_dfi.to_csv(result_path+Intermediate_path+str(Material_ID)+\".csv\")\n",
    "\n",
    "        \n",
    "\n",
    "\n"
   ]
  },
  {
   "cell_type": "code",
   "execution_count": null,
   "id": "938b26b2",
   "metadata": {},
   "outputs": [],
   "source": []
  },
  {
   "cell_type": "code",
   "execution_count": null,
   "id": "05677255",
   "metadata": {},
   "outputs": [],
   "source": [
    "# data=generate_data.Generate_data_from_csv(\"..\\\\good_TPZ_train.csv\", \"..\\\\good_TPZ_test.csv\")\n",
    "# X_train,y_train,X_test,y_test=data.to_numpy()\n",
    "# # norm=Pipeline([(\"minmax_scaler\",MinMaxScaler((-1,1))),])\n",
    "# # X_train_norm, X_test_norm =norm.fit_transform(X_train),norm.fit_transform(X_test) "
   ]
  },
  {
   "cell_type": "code",
   "execution_count": null,
   "id": "81736dde",
   "metadata": {},
   "outputs": [],
   "source": [
    "# from sklearn.model_selection import GridSearchCV\n",
    "# import time\n",
    "# param_grid = [\n",
    "#     # try combinations of hyperparameters\n",
    "#     {'subsample': [0.2, 0.6, 1.0], \n",
    "#      'learning_rate': [0.01, 0.05, 0.1],\n",
    "#      'n_estimators': [300, 400, 500], \n",
    "#      'max_depth': [3, 5, 10],\n",
    "#      'colsample_bytree': [0.6],\n",
    "#      'reg_lambda': [10]}  \n",
    "#     ]\n",
    "\n",
    "# # train across 3 folds\n",
    "# grid_search = GridSearchCV(xgb.XGBRegressor(objective='reg:squarederror', n_jobs=3, random_state=42),\n",
    "#                            param_grid, \n",
    "#                            cv=3,\n",
    "#                            scoring='neg_mean_squared_error',\n",
    "#                            return_train_score=True, \n",
    "#                            verbose = 1,\n",
    "#                            n_jobs= 25)\n",
    "\n",
    "# start = time.time()\n",
    "# grid_search.fit(X_train, y_train)\n",
    "# print(\"Run time = \", time.time()-start)\n",
    "\n"
   ]
  },
  {
   "cell_type": "code",
   "execution_count": null,
   "id": "0fcba349",
   "metadata": {},
   "outputs": [],
   "source": [
    "# print(f\"best parameters: {grid_search.best_params_}\")\n",
    "# print(f\"best score:      {-grid_search.best_score_:0.5f} (+/-{grid_search.cv_results_['std_test_score'][grid_search.best_index_]:0.5f})\")\n",
    "    "
   ]
  },
  {
   "cell_type": "code",
   "execution_count": null,
   "id": "667a9ccc",
   "metadata": {},
   "outputs": [],
   "source": [
    "# xgbReg.score(X_test,y_test)"
   ]
  },
  {
   "cell_type": "code",
   "execution_count": null,
   "id": "81009019",
   "metadata": {},
   "outputs": [],
   "source": [
    "# import seaborn as sns"
   ]
  },
  {
   "cell_type": "code",
   "execution_count": null,
   "id": "5a464371",
   "metadata": {},
   "outputs": [],
   "source": []
  }
 ],
 "metadata": {
  "kernelspec": {
   "display_name": "Python [conda env:root] *",
   "language": "python",
   "name": "conda-root-py"
  },
  "language_info": {
   "codemirror_mode": {
    "name": "ipython",
    "version": 3
   },
   "file_extension": ".py",
   "mimetype": "text/x-python",
   "name": "python",
   "nbconvert_exporter": "python",
   "pygments_lexer": "ipython3",
   "version": "3.8.8"
  }
 },
 "nbformat": 4,
 "nbformat_minor": 5
}
