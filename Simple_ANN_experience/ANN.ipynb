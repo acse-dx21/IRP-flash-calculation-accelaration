{
 "cells": [
  {
   "cell_type": "code",
   "execution_count": 1,
   "id": "7068fa9f",
   "metadata": {},
   "outputs": [
    {
     "name": "stdout",
     "output_type": "stream",
     "text": [
      "\\\n"
     ]
    }
   ],
   "source": [
    "import sys\n",
    "sys.path.append(\"..\")\n",
    "\n",
    "from data import generate_data\n",
    "from data.generate_data import genertate_T, genertate_P, genertate_Zs_n\n",
    "from tool import Py2Cpp as pc\n",
    "from my_test import test_data_set\n",
    "\n",
    "from thermo import ChemicalConstantsPackage, CEOSGas, CEOSLiquid, SRKMIX, FlashVLN, PropertyCorrelationsPackage, \\\n",
    "    HeatCapacityGas\n",
    "from torch.utils.data import DataLoader\n",
    "from model import ArtificialNN\n",
    "from model import loss_function\n",
    "from model.train import DeepNetwork_Train\n",
    "import torch\n",
    "import torch.nn as nn\n",
    "import thermo\n",
    "import pandas as pd\n",
    "import numpy as np\n",
    "from sklearn.model_selection import train_test_split\n",
    "from scipy.signal import convolve2d, correlate2d\n",
    "from sklearn.multioutput import MultiOutputRegressor\n",
    "dsa = None\n",
    "import random"
   ]
  },
  {
   "cell_type": "code",
   "execution_count": null,
   "id": "e8a1c8ff",
   "metadata": {},
   "outputs": [],
   "source": []
  },
  {
   "cell_type": "code",
   "execution_count": 2,
   "id": "fa2296f8",
   "metadata": {},
   "outputs": [
    {
     "name": "stdout",
     "output_type": "stream",
     "text": [
      "['Methane', 'Ethane', 'Propane']\n"
     ]
    }
   ],
   "source": [
    "data = pd.read_csv(\"..\\\\good_TPZ_train.csv\", comment='#')\n",
    "\n",
    "T_set_train, P_set_train, Zs_set_train = generate_data.Generate_data_from_csv.read_good_TPZ_from_csv(\"..\\\\good_TPZ_train.csv\")\n",
    "T_set_test, P_set_test, Zs_set_test = generate_data.Generate_data_from_csv.read_good_TPZ_from_csv(\"..\\\\good_TPZ_test.csv\")\n",
    "\n",
    "ID = eval(open(\"..\\\\good_TPZ_train.csv\").readlines()[-1].replace(\"#\", \"\").replace(\"\\\\n\", \"\").replace(\"  \", \",\"))\n",
    "print(ID)\n",
    "constants, properties = ChemicalConstantsPackage.from_IDs(ID)"
   ]
  },
  {
   "cell_type": "code",
   "execution_count": 3,
   "id": "8977fb0c",
   "metadata": {},
   "outputs": [
    {
     "data": {
      "text/plain": [
       "(10000, 10000)"
      ]
     },
     "execution_count": 3,
     "metadata": {},
     "output_type": "execute_result"
    }
   ],
   "source": [
    "data_max=20000\n",
    "T_set_train, P_set_train, Zs_set_train = T_set_train[:data_max], P_set_train[:data_max], Zs_set_train[:data_max]\n",
    "T_set_test, P_set_test, Zs_set_test =  T_set_test[:data_max], P_set_test[:data_max], Zs_set_test[:data_max]\n",
    "len(T_set_train),len(T_set_test)"
   ]
  },
  {
   "cell_type": "code",
   "execution_count": 4,
   "id": "edfd3f76",
   "metadata": {},
   "outputs": [],
   "source": [
    "train_set = generate_data.flashdata(constants, properties, {\"T\": T_set_train, \"P\": P_set_train}, Zs_set_train, \"Vapor_Liquid\")\n",
    "test_set = generate_data.flashdata(constants, properties, {\"T\": T_set_test, \"P\": P_set_test}, Zs_set_test, \"Vapor_Liquid\")"
   ]
  },
  {
   "cell_type": "code",
   "execution_count": 5,
   "id": "b8ffdf76",
   "metadata": {},
   "outputs": [],
   "source": [
    "train_loader = DataLoader(train_set, shuffle=False,\n",
    "                          batch_size=train_set.__len__(), collate_fn=generate_data.collate_VL)\n",
    "test_loader = DataLoader(test_set, shuffle=False,\n",
    "                          batch_size=test_set.__len__(), collate_fn=generate_data.collate_VL)"
   ]
  },
  {
   "cell_type": "code",
   "execution_count": 6,
   "id": "808d861a",
   "metadata": {},
   "outputs": [],
   "source": [
    "model_path=\".\\\\Simple_ANN_experience\\\\simpleANN.pt\""
   ]
  },
  {
   "cell_type": "code",
   "execution_count": 7,
   "id": "e81daba2",
   "metadata": {},
   "outputs": [],
   "source": [
    "# model = ArtificialNN.simple_ANN()\n",
    "# model.load_state_dict(torch.load(model_path))\n",
    "\n",
    "# criterion = ArtificialNN.My_MSE_loss()\n",
    "# optimizer = torch.optim.Adam(model.parameters(), lr=0.001)\n",
    "\n",
    "# ANN_train = DeepNetwork_Train(model, criterion, optimizer, train_loader)\n",
    "# ANN_train.Train(epoch=30)\n",
    "\n",
    "# torch.save(model.state_dict(), model_path)"
   ]
  },
  {
   "cell_type": "code",
   "execution_count": 8,
   "id": "4f94c1b5",
   "metadata": {},
   "outputs": [
    {
     "data": {
      "text/plain": [
       "'E:\\\\Ic document\\\\IRP-Accelerating-flash-calculation-through-deep-learn\\\\Simple_ANN_experience'"
      ]
     },
     "execution_count": 8,
     "metadata": {},
     "output_type": "execute_result"
    }
   ],
   "source": [
    "pwd()"
   ]
  },
  {
   "cell_type": "code",
   "execution_count": 9,
   "id": "b9a31fa8",
   "metadata": {},
   "outputs": [],
   "source": [
    "plot_data=pd.read_csv(\"simple_ANN.csv\")"
   ]
  },
  {
   "cell_type": "code",
   "execution_count": 10,
   "id": "8a254ce6",
   "metadata": {},
   "outputs": [],
   "source": [
    "x=np.array(plot_data[\"epoch\"])[:-1]\n",
    "y=np.array(plot_data[\"loss\"])[:-1]"
   ]
  },
  {
   "cell_type": "code",
   "execution_count": 11,
   "id": "2669b521",
   "metadata": {},
   "outputs": [
    {
     "data": {
      "text/plain": [
       "array([0.09277071, 0.09192562, 0.09110555, 0.09031069, 0.0895408 ,\n",
       "       0.08879502, 0.08807199, 0.08737033, 0.08668913, 0.08602799,\n",
       "       0.08538682, 0.08476562, 0.08416442, 0.08358317, 0.08302177,\n",
       "       0.08248004, 0.08195771, 0.08145442, 0.08096976, 0.08050324,\n",
       "       0.0800543 , 0.07962231, 0.07920668, 0.07880681, 0.07842215,\n",
       "       0.07805219, 0.0776965 , 0.07735472, 0.07702652, 0.07671156])"
      ]
     },
     "execution_count": 11,
     "metadata": {},
     "output_type": "execute_result"
    }
   ],
   "source": [
    "np.array(y)"
   ]
  },
  {
   "cell_type": "code",
   "execution_count": 12,
   "id": "60a1fc1f",
   "metadata": {},
   "outputs": [],
   "source": [
    "import matplotlib.pyplot as plt"
   ]
  },
  {
   "cell_type": "code",
   "execution_count": 13,
   "id": "12953f37",
   "metadata": {},
   "outputs": [
    {
     "data": {
      "image/png": "[encoded data removed]",
      "text/plain": [
       "<Figure size 432x288 with 1 Axes>"
      ]
     },
     "metadata": {
      "needs_background": "light"
     },
     "output_type": "display_data"
    }
   ],
   "source": [
    "plt.plot(x,y)\n",
    "plt.xlabel(\"epoch\")\n",
    "plt.ylabel(\"loss\")\n",
    "plt.show()"
   ]
  },
  {
   "cell_type": "code",
   "execution_count": 14,
   "id": "6fdc6e43",
   "metadata": {
    "scrolled": false
   },
   "outputs": [
    {
     "ename": "KeyboardInterrupt",
     "evalue": "",
     "output_type": "error",
     "traceback": [
      "\u001b[1;31m---------------------------------------------------------------------------\u001b[0m",
      "\u001b[1;31mKeyboardInterrupt\u001b[0m                         Traceback (most recent call last)",
      "Input \u001b[1;32mIn [14]\u001b[0m, in \u001b[0;36m<cell line: 4>\u001b[1;34m()\u001b[0m\n\u001b[0;32m     20\u001b[0m model_paths\u001b[38;5;241m=\u001b[39m\u001b[38;5;124m\"\u001b[39m\u001b[38;5;124m.\u001b[39m\u001b[38;5;130;01m\\\\\u001b[39;00m\u001b[38;5;124msaved_model\u001b[39m\u001b[38;5;130;01m\\\\\u001b[39;00m\u001b[38;5;124msimpleANN\u001b[39m\u001b[38;5;124m\"\u001b[39m\u001b[38;5;241m+\u001b[39m\u001b[38;5;124mf\u001b[39m\u001b[38;5;124m\"\u001b[39m\u001b[38;5;124mlr=\u001b[39m\u001b[38;5;132;01m{\u001b[39;00mlearning_rate\u001b[38;5;132;01m}\u001b[39;00m\u001b[38;5;124mbs=\u001b[39m\u001b[38;5;132;01m{\u001b[39;00mbatchsize\u001b[38;5;132;01m}\u001b[39;00m\u001b[38;5;124m\"\u001b[39m\u001b[38;5;241m+\u001b[39m\u001b[38;5;28mtype\u001b[39m(criterion)\u001b[38;5;241m.\u001b[39m\u001b[38;5;18m__name__\u001b[39m\u001b[38;5;241m+\u001b[39m\u001b[38;5;124m\"\u001b[39m\u001b[38;5;124m.pt\u001b[39m\u001b[38;5;124m\"\u001b[39m\n\u001b[0;32m     21\u001b[0m torch\u001b[38;5;241m.\u001b[39msave(my_model\u001b[38;5;241m.\u001b[39mstate_dict(), model_paths)\n\u001b[1;32m---> 22\u001b[0m \u001b[43mANN_train\u001b[49m\u001b[38;5;241;43m.\u001b[39;49m\u001b[43mTrain\u001b[49m\u001b[43m(\u001b[49m\u001b[43mepoch\u001b[49m\u001b[38;5;241;43m=\u001b[39;49m\u001b[38;5;241;43m30\u001b[39;49m\u001b[43m)\u001b[49m\n",
      "File \u001b[1;32mE:\\Ic document\\IRP-Accelerating-flash-calculation-through-deep-learn\\Simple_ANN_experience\\..\\model\\train.py:66\u001b[0m, in \u001b[0;36mDeepNetwork_Train.Train\u001b[1;34m(self, epoch, num_record)\u001b[0m\n\u001b[0;32m     64\u001b[0m log_train \u001b[38;5;241m=\u001b[39m {}\n\u001b[0;32m     65\u001b[0m log_train[\u001b[38;5;124m\"\u001b[39m\u001b[38;5;124mepoch\u001b[39m\u001b[38;5;124m\"\u001b[39m] \u001b[38;5;241m=\u001b[39m i\n\u001b[1;32m---> 66\u001b[0m log_train[\u001b[38;5;124m\"\u001b[39m\u001b[38;5;124mloss\u001b[39m\u001b[38;5;124m\"\u001b[39m] \u001b[38;5;241m=\u001b[39m \u001b[38;5;28;43mself\u001b[39;49m\u001b[38;5;241;43m.\u001b[39;49m\u001b[43mtrain\u001b[49m\u001b[43m(\u001b[49m\u001b[43m)\u001b[49m\u001b[38;5;241m.\u001b[39mitem()\n\u001b[0;32m     67\u001b[0m epoch_logs_train(log_train)\n\u001b[0;32m     68\u001b[0m \u001b[38;5;28;01mif\u001b[39;00m \u001b[38;5;28mself\u001b[39m\u001b[38;5;241m.\u001b[39mtest_loader \u001b[38;5;129;01mis\u001b[39;00m \u001b[38;5;129;01mnot\u001b[39;00m \u001b[38;5;28;01mNone\u001b[39;00m:\n",
      "File \u001b[1;32mE:\\Ic document\\IRP-Accelerating-flash-calculation-through-deep-learn\\Simple_ANN_experience\\..\\model\\train.py:46\u001b[0m, in \u001b[0;36mDeepNetwork_Train.train\u001b[1;34m(self)\u001b[0m\n\u001b[0;32m     44\u001b[0m \u001b[38;5;28;01mdef\u001b[39;00m \u001b[38;5;21mtrain\u001b[39m(\u001b[38;5;28mself\u001b[39m):\n\u001b[0;32m     45\u001b[0m     \u001b[38;5;28mself\u001b[39m\u001b[38;5;241m.\u001b[39mmodel\u001b[38;5;241m.\u001b[39mtrain()\n\u001b[1;32m---> 46\u001b[0m     \u001b[38;5;28;01mfor\u001b[39;00m x, y \u001b[38;5;129;01min\u001b[39;00m \u001b[38;5;28mself\u001b[39m\u001b[38;5;241m.\u001b[39mdataloader:\n\u001b[0;32m     47\u001b[0m         x, y \u001b[38;5;241m=\u001b[39m x\u001b[38;5;241m.\u001b[39mto(device), y\u001b[38;5;241m.\u001b[39mto(device)\n\u001b[0;32m     48\u001b[0m         y_pred \u001b[38;5;241m=\u001b[39m \u001b[38;5;28mself\u001b[39m\u001b[38;5;241m.\u001b[39mmodel(x)\n",
      "File \u001b[1;32mD:\\anaconda\\envs\\pytorch_gpu\\lib\\site-packages\\torch\\utils\\data\\dataloader.py:530\u001b[0m, in \u001b[0;36m_BaseDataLoaderIter.__next__\u001b[1;34m(self)\u001b[0m\n\u001b[0;32m    528\u001b[0m \u001b[38;5;28;01mif\u001b[39;00m \u001b[38;5;28mself\u001b[39m\u001b[38;5;241m.\u001b[39m_sampler_iter \u001b[38;5;129;01mis\u001b[39;00m \u001b[38;5;28;01mNone\u001b[39;00m:\n\u001b[0;32m    529\u001b[0m     \u001b[38;5;28mself\u001b[39m\u001b[38;5;241m.\u001b[39m_reset()\n\u001b[1;32m--> 530\u001b[0m data \u001b[38;5;241m=\u001b[39m \u001b[38;5;28;43mself\u001b[39;49m\u001b[38;5;241;43m.\u001b[39;49m\u001b[43m_next_data\u001b[49m\u001b[43m(\u001b[49m\u001b[43m)\u001b[49m\n\u001b[0;32m    531\u001b[0m \u001b[38;5;28mself\u001b[39m\u001b[38;5;241m.\u001b[39m_num_yielded \u001b[38;5;241m+\u001b[39m\u001b[38;5;241m=\u001b[39m \u001b[38;5;241m1\u001b[39m\n\u001b[0;32m    532\u001b[0m \u001b[38;5;28;01mif\u001b[39;00m \u001b[38;5;28mself\u001b[39m\u001b[38;5;241m.\u001b[39m_dataset_kind \u001b[38;5;241m==\u001b[39m _DatasetKind\u001b[38;5;241m.\u001b[39mIterable \u001b[38;5;129;01mand\u001b[39;00m \\\n\u001b[0;32m    533\u001b[0m         \u001b[38;5;28mself\u001b[39m\u001b[38;5;241m.\u001b[39m_IterableDataset_len_called \u001b[38;5;129;01mis\u001b[39;00m \u001b[38;5;129;01mnot\u001b[39;00m \u001b[38;5;28;01mNone\u001b[39;00m \u001b[38;5;129;01mand\u001b[39;00m \\\n\u001b[0;32m    534\u001b[0m         \u001b[38;5;28mself\u001b[39m\u001b[38;5;241m.\u001b[39m_num_yielded \u001b[38;5;241m>\u001b[39m \u001b[38;5;28mself\u001b[39m\u001b[38;5;241m.\u001b[39m_IterableDataset_len_called:\n",
      "File \u001b[1;32mD:\\anaconda\\envs\\pytorch_gpu\\lib\\site-packages\\torch\\utils\\data\\dataloader.py:570\u001b[0m, in \u001b[0;36m_SingleProcessDataLoaderIter._next_data\u001b[1;34m(self)\u001b[0m\n\u001b[0;32m    568\u001b[0m \u001b[38;5;28;01mdef\u001b[39;00m \u001b[38;5;21m_next_data\u001b[39m(\u001b[38;5;28mself\u001b[39m):\n\u001b[0;32m    569\u001b[0m     index \u001b[38;5;241m=\u001b[39m \u001b[38;5;28mself\u001b[39m\u001b[38;5;241m.\u001b[39m_next_index()  \u001b[38;5;66;03m# may raise StopIteration\u001b[39;00m\n\u001b[1;32m--> 570\u001b[0m     data \u001b[38;5;241m=\u001b[39m \u001b[38;5;28;43mself\u001b[39;49m\u001b[38;5;241;43m.\u001b[39;49m\u001b[43m_dataset_fetcher\u001b[49m\u001b[38;5;241;43m.\u001b[39;49m\u001b[43mfetch\u001b[49m\u001b[43m(\u001b[49m\u001b[43mindex\u001b[49m\u001b[43m)\u001b[49m  \u001b[38;5;66;03m# may raise StopIteration\u001b[39;00m\n\u001b[0;32m    571\u001b[0m     \u001b[38;5;28;01mif\u001b[39;00m \u001b[38;5;28mself\u001b[39m\u001b[38;5;241m.\u001b[39m_pin_memory:\n\u001b[0;32m    572\u001b[0m         data \u001b[38;5;241m=\u001b[39m _utils\u001b[38;5;241m.\u001b[39mpin_memory\u001b[38;5;241m.\u001b[39mpin_memory(data)\n",
      "File \u001b[1;32mD:\\anaconda\\envs\\pytorch_gpu\\lib\\site-packages\\torch\\utils\\data\\_utils\\fetch.py:49\u001b[0m, in \u001b[0;36m_MapDatasetFetcher.fetch\u001b[1;34m(self, possibly_batched_index)\u001b[0m\n\u001b[0;32m     47\u001b[0m \u001b[38;5;28;01mdef\u001b[39;00m \u001b[38;5;21mfetch\u001b[39m(\u001b[38;5;28mself\u001b[39m, possibly_batched_index):\n\u001b[0;32m     48\u001b[0m     \u001b[38;5;28;01mif\u001b[39;00m \u001b[38;5;28mself\u001b[39m\u001b[38;5;241m.\u001b[39mauto_collation:\n\u001b[1;32m---> 49\u001b[0m         data \u001b[38;5;241m=\u001b[39m [\u001b[38;5;28mself\u001b[39m\u001b[38;5;241m.\u001b[39mdataset[idx] \u001b[38;5;28;01mfor\u001b[39;00m idx \u001b[38;5;129;01min\u001b[39;00m possibly_batched_index]\n\u001b[0;32m     50\u001b[0m     \u001b[38;5;28;01melse\u001b[39;00m:\n\u001b[0;32m     51\u001b[0m         data \u001b[38;5;241m=\u001b[39m \u001b[38;5;28mself\u001b[39m\u001b[38;5;241m.\u001b[39mdataset[possibly_batched_index]\n",
      "File \u001b[1;32mD:\\anaconda\\envs\\pytorch_gpu\\lib\\site-packages\\torch\\utils\\data\\_utils\\fetch.py:49\u001b[0m, in \u001b[0;36m<listcomp>\u001b[1;34m(.0)\u001b[0m\n\u001b[0;32m     47\u001b[0m \u001b[38;5;28;01mdef\u001b[39;00m \u001b[38;5;21mfetch\u001b[39m(\u001b[38;5;28mself\u001b[39m, possibly_batched_index):\n\u001b[0;32m     48\u001b[0m     \u001b[38;5;28;01mif\u001b[39;00m \u001b[38;5;28mself\u001b[39m\u001b[38;5;241m.\u001b[39mauto_collation:\n\u001b[1;32m---> 49\u001b[0m         data \u001b[38;5;241m=\u001b[39m [\u001b[38;5;28;43mself\u001b[39;49m\u001b[38;5;241;43m.\u001b[39;49m\u001b[43mdataset\u001b[49m\u001b[43m[\u001b[49m\u001b[43midx\u001b[49m\u001b[43m]\u001b[49m \u001b[38;5;28;01mfor\u001b[39;00m idx \u001b[38;5;129;01min\u001b[39;00m possibly_batched_index]\n\u001b[0;32m     50\u001b[0m     \u001b[38;5;28;01melse\u001b[39;00m:\n\u001b[0;32m     51\u001b[0m         data \u001b[38;5;241m=\u001b[39m \u001b[38;5;28mself\u001b[39m\u001b[38;5;241m.\u001b[39mdataset[possibly_batched_index]\n",
      "File \u001b[1;32mE:\\Ic document\\IRP-Accelerating-flash-calculation-through-deep-learn\\Simple_ANN_experience\\..\\data\\generate_data.py:96\u001b[0m, in \u001b[0;36mflashdata.__getitem__\u001b[1;34m(self, idx)\u001b[0m\n\u001b[0;32m     95\u001b[0m \u001b[38;5;28;01mdef\u001b[39;00m \u001b[38;5;21m__getitem__\u001b[39m(\u001b[38;5;28mself\u001b[39m, idx):\n\u001b[1;32m---> 96\u001b[0m     \u001b[38;5;28;01mreturn\u001b[39;00m \u001b[38;5;28;43mself\u001b[39;49m\u001b[38;5;241;43m.\u001b[39;49m\u001b[43mflash\u001b[49m\u001b[38;5;241;43m.\u001b[39;49m\u001b[43mflash\u001b[49m\u001b[43m(\u001b[49m\u001b[43mzs\u001b[49m\u001b[38;5;241;43m=\u001b[39;49m\u001b[38;5;28;43mself\u001b[39;49m\u001b[38;5;241;43m.\u001b[39;49m\u001b[43mzs_list\u001b[49m\u001b[43m[\u001b[49m\u001b[43midx\u001b[49m\u001b[43m]\u001b[49m\u001b[43m \u001b[49m\u001b[38;5;28;43;01mif\u001b[39;49;00m\u001b[43m \u001b[49m\u001b[38;5;28;43mself\u001b[39;49m\u001b[38;5;241;43m.\u001b[39;49m\u001b[43mzs_list\u001b[49m\u001b[43m \u001b[49m\u001b[38;5;129;43;01mis\u001b[39;49;00m\u001b[43m \u001b[49m\u001b[38;5;129;43;01mnot\u001b[39;49;00m\u001b[43m \u001b[49m\u001b[38;5;28;43;01mNone\u001b[39;49;00m\u001b[43m \u001b[49m\u001b[38;5;28;43;01melse\u001b[39;49;00m\u001b[43m \u001b[49m\u001b[38;5;28;43;01mNone\u001b[39;49;00m\u001b[43m,\u001b[49m\n\u001b[0;32m     97\u001b[0m \u001b[43m                            \u001b[49m\u001b[43mT\u001b[49m\u001b[38;5;241;43m=\u001b[39;49m\u001b[38;5;28;43mself\u001b[39;49m\u001b[38;5;241;43m.\u001b[39;49m\u001b[43mT_list\u001b[49m\u001b[43m[\u001b[49m\u001b[43midx\u001b[49m\u001b[43m]\u001b[49m\u001b[43m \u001b[49m\u001b[38;5;28;43;01mif\u001b[39;49;00m\u001b[43m \u001b[49m\u001b[38;5;28;43mself\u001b[39;49m\u001b[38;5;241;43m.\u001b[39;49m\u001b[43mT_list\u001b[49m\u001b[43m \u001b[49m\u001b[38;5;129;43;01mis\u001b[39;49;00m\u001b[43m \u001b[49m\u001b[38;5;129;43;01mnot\u001b[39;49;00m\u001b[43m \u001b[49m\u001b[38;5;28;43;01mNone\u001b[39;49;00m\u001b[43m \u001b[49m\u001b[38;5;28;43;01melse\u001b[39;49;00m\u001b[43m \u001b[49m\u001b[38;5;28;43;01mNone\u001b[39;49;00m\u001b[43m,\u001b[49m\n\u001b[0;32m     98\u001b[0m \u001b[43m                            \u001b[49m\u001b[43mP\u001b[49m\u001b[38;5;241;43m=\u001b[39;49m\u001b[38;5;28;43mself\u001b[39;49m\u001b[38;5;241;43m.\u001b[39;49m\u001b[43mP_list\u001b[49m\u001b[43m[\u001b[49m\u001b[43midx\u001b[49m\u001b[43m]\u001b[49m\u001b[43m \u001b[49m\u001b[38;5;28;43;01mif\u001b[39;49;00m\u001b[43m \u001b[49m\u001b[38;5;28;43mself\u001b[39;49m\u001b[38;5;241;43m.\u001b[39;49m\u001b[43mP_list\u001b[49m\u001b[43m \u001b[49m\u001b[38;5;129;43;01mis\u001b[39;49;00m\u001b[43m \u001b[49m\u001b[38;5;129;43;01mnot\u001b[39;49;00m\u001b[43m \u001b[49m\u001b[38;5;28;43;01mNone\u001b[39;49;00m\u001b[43m \u001b[49m\u001b[38;5;28;43;01melse\u001b[39;49;00m\u001b[43m \u001b[49m\u001b[38;5;28;43;01mNone\u001b[39;49;00m\u001b[43m,\u001b[49m\n\u001b[0;32m     99\u001b[0m \u001b[43m                            \u001b[49m\u001b[43mH\u001b[49m\u001b[38;5;241;43m=\u001b[39;49m\u001b[38;5;28;43mself\u001b[39;49m\u001b[38;5;241;43m.\u001b[39;49m\u001b[43mH_list\u001b[49m\u001b[43m[\u001b[49m\u001b[43midx\u001b[49m\u001b[43m]\u001b[49m\u001b[43m \u001b[49m\u001b[38;5;28;43;01mif\u001b[39;49;00m\u001b[43m \u001b[49m\u001b[38;5;28;43mself\u001b[39;49m\u001b[38;5;241;43m.\u001b[39;49m\u001b[43mH_list\u001b[49m\u001b[43m \u001b[49m\u001b[38;5;129;43;01mis\u001b[39;49;00m\u001b[43m \u001b[49m\u001b[38;5;129;43;01mnot\u001b[39;49;00m\u001b[43m \u001b[49m\u001b[38;5;28;43;01mNone\u001b[39;49;00m\u001b[43m \u001b[49m\u001b[38;5;28;43;01melse\u001b[39;49;00m\u001b[43m \u001b[49m\u001b[38;5;28;43;01mNone\u001b[39;49;00m\u001b[43m,\u001b[49m\n\u001b[0;32m    100\u001b[0m \u001b[43m                            \u001b[49m\u001b[43mS\u001b[49m\u001b[38;5;241;43m=\u001b[39;49m\u001b[38;5;28;43mself\u001b[39;49m\u001b[38;5;241;43m.\u001b[39;49m\u001b[43mS_list\u001b[49m\u001b[43m[\u001b[49m\u001b[43midx\u001b[49m\u001b[43m]\u001b[49m\u001b[43m \u001b[49m\u001b[38;5;28;43;01mif\u001b[39;49;00m\u001b[43m \u001b[49m\u001b[38;5;28;43mself\u001b[39;49m\u001b[38;5;241;43m.\u001b[39;49m\u001b[43mS_list\u001b[49m\u001b[43m \u001b[49m\u001b[38;5;129;43;01mis\u001b[39;49;00m\u001b[43m \u001b[49m\u001b[38;5;129;43;01mnot\u001b[39;49;00m\u001b[43m \u001b[49m\u001b[38;5;28;43;01mNone\u001b[39;49;00m\u001b[43m \u001b[49m\u001b[38;5;28;43;01melse\u001b[39;49;00m\u001b[43m \u001b[49m\u001b[38;5;28;43;01mNone\u001b[39;49;00m\u001b[43m)\u001b[49m\n",
      "File \u001b[1;32mD:\\anaconda\\envs\\pytorch_gpu\\lib\\site-packages\\thermo\\flash\\flash_base.py:294\u001b[0m, in \u001b[0;36mFlash.flash\u001b[1;34m(self, zs, T, P, VF, SF, V, H, S, G, U, A, solution, hot_start, retry, dest)\u001b[0m\n\u001b[0;32m    291\u001b[0m         \u001b[38;5;28;01mraise\u001b[39;00m \u001b[38;5;167;01mValueError\u001b[39;00m(\u001b[38;5;124m\"\u001b[39m\u001b[38;5;124mCannot flash with a solid fraction spec without at least one gas and liquid phase defined, as well as a solid phase\u001b[39m\u001b[38;5;124m\"\u001b[39m)\n\u001b[0;32m    293\u001b[0m \u001b[38;5;28;01mif\u001b[39;00m ((T_spec \u001b[38;5;129;01mand\u001b[39;00m (P_spec \u001b[38;5;129;01mor\u001b[39;00m V_spec)) \u001b[38;5;129;01mor\u001b[39;00m (P_spec \u001b[38;5;129;01mand\u001b[39;00m V_spec)):\n\u001b[1;32m--> 294\u001b[0m     g, ls, ss, betas, flash_convergence \u001b[38;5;241m=\u001b[39m \u001b[38;5;28;43mself\u001b[39;49m\u001b[38;5;241;43m.\u001b[39;49m\u001b[43mflash_TPV\u001b[49m\u001b[43m(\u001b[49m\u001b[43mT\u001b[49m\u001b[38;5;241;43m=\u001b[39;49m\u001b[43mT\u001b[49m\u001b[43m,\u001b[49m\u001b[43m \u001b[49m\u001b[43mP\u001b[49m\u001b[38;5;241;43m=\u001b[39;49m\u001b[43mP\u001b[49m\u001b[43m,\u001b[49m\u001b[43m \u001b[49m\u001b[43mV\u001b[49m\u001b[38;5;241;43m=\u001b[39;49m\u001b[43mV\u001b[49m\u001b[43m,\u001b[49m\u001b[43m \u001b[49m\u001b[43mzs\u001b[49m\u001b[38;5;241;43m=\u001b[39;49m\u001b[43mzs\u001b[49m\u001b[43m,\u001b[49m\u001b[43m \u001b[49m\u001b[43msolution\u001b[49m\u001b[38;5;241;43m=\u001b[39;49m\u001b[43msolution\u001b[49m\u001b[43m,\u001b[49m\u001b[43m \u001b[49m\u001b[43mhot_start\u001b[49m\u001b[38;5;241;43m=\u001b[39;49m\u001b[43mhot_start\u001b[49m\u001b[43m)\u001b[49m\n\u001b[0;32m    295\u001b[0m     \u001b[38;5;28;01mif\u001b[39;00m g \u001b[38;5;129;01mis\u001b[39;00m \u001b[38;5;129;01mnot\u001b[39;00m \u001b[38;5;28;01mNone\u001b[39;00m:\n\u001b[0;32m    296\u001b[0m         id_phases \u001b[38;5;241m=\u001b[39m [g] \u001b[38;5;241m+\u001b[39m ls \u001b[38;5;241m+\u001b[39m ss\n",
      "File \u001b[1;32mD:\\anaconda\\envs\\pytorch_gpu\\lib\\site-packages\\thermo\\flash\\flash_vl.py:746\u001b[0m, in \u001b[0;36mFlashVL.flash_TPV\u001b[1;34m(self, T, P, V, zs, solution, hot_start)\u001b[0m\n\u001b[0;32m    742\u001b[0m         \u001b[38;5;28mprint\u001b[39m(\u001b[38;5;124m'\u001b[39m\u001b[38;5;124mFAILED from hot start TP\u001b[39m\u001b[38;5;124m'\u001b[39m)\n\u001b[0;32m    743\u001b[0m         \u001b[38;5;28;01mpass\u001b[39;00m\n\u001b[1;32m--> 746\u001b[0m \u001b[38;5;28;01mreturn\u001b[39;00m \u001b[38;5;28;43mself\u001b[39;49m\u001b[38;5;241;43m.\u001b[39;49m\u001b[43mflash_TP_stability_test\u001b[49m\u001b[43m(\u001b[49m\u001b[43mT\u001b[49m\u001b[43m,\u001b[49m\u001b[43m \u001b[49m\u001b[43mP\u001b[49m\u001b[43m,\u001b[49m\u001b[43m \u001b[49m\u001b[43mzs\u001b[49m\u001b[43m,\u001b[49m\u001b[43m \u001b[49m\u001b[38;5;28;43mself\u001b[39;49m\u001b[38;5;241;43m.\u001b[39;49m\u001b[43mliquid\u001b[49m\u001b[43m,\u001b[49m\u001b[43m \u001b[49m\u001b[38;5;28;43mself\u001b[39;49m\u001b[38;5;241;43m.\u001b[39;49m\u001b[43mgas\u001b[49m\u001b[43m,\u001b[49m\u001b[43m \u001b[49m\u001b[43msolution\u001b[49m\u001b[38;5;241;43m=\u001b[39;49m\u001b[43msolution\u001b[49m\u001b[43m)\u001b[49m\n",
      "File \u001b[1;32mD:\\anaconda\\envs\\pytorch_gpu\\lib\\site-packages\\thermo\\flash\\flash_vl.py:640\u001b[0m, in \u001b[0;36mFlashVL.flash_TP_stability_test\u001b[1;34m(self, T, P, zs, liquid, gas, solution, LL, phases_ready)\u001b[0m\n\u001b[0;32m    637\u001b[0m \u001b[38;5;28;01melse\u001b[39;00m:\n\u001b[0;32m    638\u001b[0m     min_phase, other_phase \u001b[38;5;241m=\u001b[39m gas, liquid\n\u001b[1;32m--> 640\u001b[0m stable, (trial_zs, appearing_zs, V_over_F, stab_guess_name, stab_guess_number, stab_sum_zs_test, stab_lnK_2_tot) \u001b[38;5;241m=\u001b[39m \u001b[38;5;28;43mself\u001b[39;49m\u001b[38;5;241;43m.\u001b[39;49m\u001b[43mstability_test_Michelsen\u001b[49m\u001b[43m(\u001b[49m\n\u001b[0;32m    641\u001b[0m \u001b[43m        \u001b[49m\u001b[43mT\u001b[49m\u001b[43m,\u001b[49m\u001b[43m \u001b[49m\u001b[43mP\u001b[49m\u001b[43m,\u001b[49m\u001b[43m \u001b[49m\u001b[43mzs\u001b[49m\u001b[43m,\u001b[49m\u001b[43m \u001b[49m\u001b[43mmin_phase\u001b[49m\u001b[43m,\u001b[49m\u001b[43m \u001b[49m\u001b[43mother_phase\u001b[49m\u001b[43m,\u001b[49m\u001b[43m \u001b[49m\u001b[43mhighest_comp_diff\u001b[49m\u001b[38;5;241;43m=\u001b[39;49m\u001b[38;5;28;43mself\u001b[39;49m\u001b[38;5;241;43m.\u001b[39;49m\u001b[43mSS_2P_STAB_HIGHEST_COMP_DIFF\u001b[49m\u001b[43m,\u001b[49m\u001b[43m \u001b[49m\u001b[43mmin_comp_diff\u001b[49m\u001b[38;5;241;43m=\u001b[39;49m\u001b[38;5;28;43mself\u001b[39;49m\u001b[38;5;241;43m.\u001b[39;49m\u001b[43mSS_2P_STAB_COMP_DIFF_MIN\u001b[49m\u001b[43m)\u001b[49m\n\u001b[0;32m    642\u001b[0m \u001b[38;5;28;01mif\u001b[39;00m stable:\n\u001b[0;32m    643\u001b[0m     ls, g \u001b[38;5;241m=\u001b[39m ([liquid], \u001b[38;5;28;01mNone\u001b[39;00m) \u001b[38;5;28;01mif\u001b[39;00m min_phase \u001b[38;5;129;01mis\u001b[39;00m liquid \u001b[38;5;28;01melse\u001b[39;00m ([], gas)\n",
      "File \u001b[1;32mD:\\anaconda\\envs\\pytorch_gpu\\lib\\site-packages\\thermo\\flash\\flash_vl.py:542\u001b[0m, in \u001b[0;36mFlashVL.stability_test_Michelsen\u001b[1;34m(self, T, P, zs, min_phase, other_phase, existing_comps, skip, expect_liquid, expect_aqueous, handle_iffy, lowest_dG, highest_comp_diff, min_comp_diff, all_solutions)\u001b[0m\n\u001b[0;32m    540\u001b[0m \u001b[38;5;28;01mfor\u001b[39;00m i, trial_comp \u001b[38;5;129;01min\u001b[39;00m \u001b[38;5;28menumerate\u001b[39m(gen):\n\u001b[0;32m    541\u001b[0m         \u001b[38;5;28;01mtry\u001b[39;00m:\n\u001b[1;32m--> 542\u001b[0m             sln \u001b[38;5;241m=\u001b[39m \u001b[43mstability_iteration_Michelsen\u001b[49m\u001b[43m(\u001b[49m\u001b[43mmin_phase\u001b[49m\u001b[43m,\u001b[49m\u001b[43m \u001b[49m\u001b[43mtrial_comp\u001b[49m\u001b[43m,\u001b[49m\u001b[43m \u001b[49m\u001b[43mtest_phase\u001b[49m\u001b[38;5;241;43m=\u001b[39;49m\u001b[43mother_phase\u001b[49m\u001b[43m,\u001b[49m\n\u001b[0;32m    543\u001b[0m \u001b[43m                                                \u001b[49m\u001b[43mmaxiter\u001b[49m\u001b[38;5;241;43m=\u001b[39;49m\u001b[38;5;28;43mself\u001b[39;49m\u001b[38;5;241;43m.\u001b[39;49m\u001b[43mPT_STABILITY_MAXITER\u001b[49m\u001b[43m,\u001b[49m\u001b[43m \u001b[49m\u001b[43mxtol\u001b[49m\u001b[38;5;241;43m=\u001b[39;49m\u001b[38;5;28;43mself\u001b[39;49m\u001b[38;5;241;43m.\u001b[39;49m\u001b[43mPT_STABILITY_XTOL\u001b[49m\u001b[43m)\u001b[49m\n\u001b[0;32m    544\u001b[0m             sum_zs_test, Ks, zs_test, V_over_F, trial_zs, appearing_zs, dG_RT \u001b[38;5;241m=\u001b[39m sln\n\u001b[0;32m    545\u001b[0m             \u001b[38;5;28;01mif\u001b[39;00m zs \u001b[38;5;241m==\u001b[39m trial_zs:\n",
      "File \u001b[1;32mD:\\anaconda\\envs\\pytorch_gpu\\lib\\site-packages\\thermo\\flash\\flash_utils.py:3803\u001b[0m, in \u001b[0;36mstability_iteration_Michelsen\u001b[1;34m(trial_phase, zs_test, test_phase, maxiter, xtol)\u001b[0m\n\u001b[0;32m   3799\u001b[0m     converged \u001b[38;5;241m=\u001b[39m \u001b[38;5;28;01mFalse\u001b[39;00m\n\u001b[0;32m   3800\u001b[0m     \u001b[38;5;28;01mfor\u001b[39;00m _ \u001b[38;5;129;01min\u001b[39;00m \u001b[38;5;28mrange\u001b[39m(maxiter):\n\u001b[0;32m   3801\u001b[0m \u001b[38;5;66;03m#        test_phase = test_phase.to(T=T, P=P, zs=zs_test)\u001b[39;00m\n\u001b[0;32m   3802\u001b[0m \u001b[38;5;66;03m#        fugacities_test = test_phase.fugacities_lowest_Gibbs()\u001b[39;00m\n\u001b[1;32m-> 3803\u001b[0m         fugacities_test \u001b[38;5;241m=\u001b[39m \u001b[43mtest_phase\u001b[49m\u001b[38;5;241;43m.\u001b[39;49m\u001b[43mfugacities_at_zs\u001b[49m\u001b[43m(\u001b[49m\u001b[43mzs_test\u001b[49m\u001b[43m)\u001b[49m\n\u001b[0;32m   3805\u001b[0m         err \u001b[38;5;241m=\u001b[39m \u001b[38;5;241m0.0\u001b[39m\n\u001b[0;32m   3806\u001b[0m         \u001b[38;5;28;01mtry\u001b[39;00m:\n",
      "File \u001b[1;32mD:\\anaconda\\envs\\pytorch_gpu\\lib\\site-packages\\thermo\\phases\\phase.py:830\u001b[0m, in \u001b[0;36mPhase.fugacities_at_zs\u001b[1;34m(self, zs)\u001b[0m\n\u001b[0;32m    816\u001b[0m \u001b[38;5;124mr\u001b[39m\u001b[38;5;124;03m'''Method to directly calculate the figacities at a\u001b[39;00m\n\u001b[0;32m    817\u001b[0m \u001b[38;5;124;03mdifferent composition than the current phase.\u001b[39;00m\n\u001b[0;32m    818\u001b[0m \u001b[38;5;124;03mThis is implemented to allow for the possibility of more direct\u001b[39;00m\n\u001b[1;32m   (...)\u001b[0m\n\u001b[0;32m    827\u001b[0m \u001b[38;5;124;03m    Fugacities, [Pa]\u001b[39;00m\n\u001b[0;32m    828\u001b[0m \u001b[38;5;124;03m'''\u001b[39;00m\n\u001b[0;32m    829\u001b[0m P \u001b[38;5;241m=\u001b[39m \u001b[38;5;28mself\u001b[39m\u001b[38;5;241m.\u001b[39mP\n\u001b[1;32m--> 830\u001b[0m lnphis \u001b[38;5;241m=\u001b[39m \u001b[38;5;28;43mself\u001b[39;49m\u001b[38;5;241;43m.\u001b[39;49m\u001b[43mlnphis_at_zs\u001b[49m\u001b[43m(\u001b[49m\u001b[43mzs\u001b[49m\u001b[43m)\u001b[49m\n\u001b[0;32m    831\u001b[0m \u001b[38;5;28;01mreturn\u001b[39;00m [P\u001b[38;5;241m*\u001b[39mzs[i]\u001b[38;5;241m*\u001b[39mtrunc_exp(lnphis[i]) \u001b[38;5;28;01mfor\u001b[39;00m i \u001b[38;5;129;01min\u001b[39;00m \u001b[38;5;28mrange\u001b[39m(\u001b[38;5;28mself\u001b[39m\u001b[38;5;241m.\u001b[39mN)]\n",
      "File \u001b[1;32mD:\\anaconda\\envs\\pytorch_gpu\\lib\\site-packages\\thermo\\phases\\ceos.py:325\u001b[0m, in \u001b[0;36mCEOSPhase.lnphis_at_zs\u001b[1;34m(self, zs)\u001b[0m\n\u001b[0;32m    323\u001b[0m eos_mix \u001b[38;5;241m=\u001b[39m \u001b[38;5;28mself\u001b[39m\u001b[38;5;241m.\u001b[39meos_mix\n\u001b[0;32m    324\u001b[0m \u001b[38;5;66;03m# if eos_mix.__class__.__name__ in ('PRMIX', 'VDWMIX', 'SRKMIX', 'RKMIX'):\u001b[39;00m\n\u001b[1;32m--> 325\u001b[0m \u001b[38;5;28;01mreturn\u001b[39;00m \u001b[43mlnphis_direct\u001b[49m\u001b[43m(\u001b[49m\u001b[43mzs\u001b[49m\u001b[43m,\u001b[49m\u001b[43m \u001b[49m\u001b[38;5;241;43m*\u001b[39;49m\u001b[38;5;28;43mself\u001b[39;49m\u001b[38;5;241;43m.\u001b[39;49m\u001b[43mlnphis_args\u001b[49m\u001b[43m(\u001b[49m\u001b[43m)\u001b[49m\u001b[43m)\u001b[49m\n",
      "File \u001b[1;32mD:\\anaconda\\envs\\pytorch_gpu\\lib\\site-packages\\thermo\\phases\\phase_utils.py:76\u001b[0m, in \u001b[0;36mlnphis_direct\u001b[1;34m(zs, model, T, P, N, *args)\u001b[0m\n\u001b[0;32m     74\u001b[0m \u001b[38;5;28;01mdef\u001b[39;00m \u001b[38;5;21mlnphis_direct\u001b[39m(zs, model, T, P, N, \u001b[38;5;241m*\u001b[39margs):\n\u001b[0;32m     75\u001b[0m     \u001b[38;5;28;01mif\u001b[39;00m model \u001b[38;5;241m==\u001b[39m \u001b[38;5;241m10200\u001b[39m \u001b[38;5;129;01mor\u001b[39;00m model \u001b[38;5;241m==\u001b[39m \u001b[38;5;241m10201\u001b[39m \u001b[38;5;129;01mor\u001b[39;00m model \u001b[38;5;241m==\u001b[39m \u001b[38;5;241m10204\u001b[39m \u001b[38;5;129;01mor\u001b[39;00m model \u001b[38;5;241m==\u001b[39m \u001b[38;5;241m10205\u001b[39m \u001b[38;5;129;01mor\u001b[39;00m model \u001b[38;5;241m==\u001b[39m \u001b[38;5;241m10206\u001b[39m:\n\u001b[1;32m---> 76\u001b[0m         \u001b[38;5;28;01mreturn\u001b[39;00m \u001b[43mPR_lnphis_fastest\u001b[49m\u001b[43m(\u001b[49m\u001b[43mzs\u001b[49m\u001b[43m,\u001b[49m\u001b[43m \u001b[49m\u001b[43mT\u001b[49m\u001b[43m,\u001b[49m\u001b[43m \u001b[49m\u001b[43mP\u001b[49m\u001b[43m,\u001b[49m\u001b[43m \u001b[49m\u001b[43mN\u001b[49m\u001b[43m,\u001b[49m\u001b[43m \u001b[49m\u001b[38;5;241;43m*\u001b[39;49m\u001b[43margs\u001b[49m\u001b[43m)\u001b[49m\n\u001b[0;32m     77\u001b[0m     \u001b[38;5;28;01melif\u001b[39;00m model \u001b[38;5;241m==\u001b[39m \u001b[38;5;241m10202\u001b[39m \u001b[38;5;129;01mor\u001b[39;00m model \u001b[38;5;241m==\u001b[39m \u001b[38;5;241m10203\u001b[39m \u001b[38;5;129;01mor\u001b[39;00m model \u001b[38;5;241m==\u001b[39m \u001b[38;5;241m10207\u001b[39m:\n\u001b[0;32m     78\u001b[0m         \u001b[38;5;28;01mreturn\u001b[39;00m PR_translated_lnphis_fastest(zs, T, P, N, \u001b[38;5;241m*\u001b[39margs)\n",
      "File \u001b[1;32mD:\\anaconda\\envs\\pytorch_gpu\\lib\\site-packages\\thermo\\eos_mix_methods.py:1356\u001b[0m, in \u001b[0;36mPR_lnphis_fastest\u001b[1;34m(zs, T, P, N, kijs, l, g, bs, a_alphas, a_alpha_roots, a_alpha_j_rows, vec0, lnphis)\u001b[0m\n\u001b[0;32m   1353\u001b[0m delta \u001b[38;5;241m=\u001b[39m \u001b[38;5;241m2.0\u001b[39m\u001b[38;5;241m*\u001b[39mb\n\u001b[0;32m   1354\u001b[0m epsilon \u001b[38;5;241m=\u001b[39m \u001b[38;5;241m-\u001b[39mb\u001b[38;5;241m*\u001b[39mb\n\u001b[1;32m-> 1356\u001b[0m Z, a_alpha, a_alpha_j_rows \u001b[38;5;241m=\u001b[39m \u001b[43meos_mix_a_alpha_volume\u001b[49m\u001b[43m(\u001b[49m\u001b[43mg\u001b[49m\u001b[43m,\u001b[49m\u001b[43m \u001b[49m\u001b[43mT\u001b[49m\u001b[43m,\u001b[49m\u001b[43m \u001b[49m\u001b[43mP\u001b[49m\u001b[43m,\u001b[49m\u001b[43m \u001b[49m\u001b[43mzs\u001b[49m\u001b[43m,\u001b[49m\u001b[43m \u001b[49m\u001b[43mkijs\u001b[49m\u001b[43m,\u001b[49m\u001b[43m \u001b[49m\u001b[43mb\u001b[49m\u001b[43m,\u001b[49m\u001b[43m \u001b[49m\u001b[43mdelta\u001b[49m\u001b[43m,\u001b[49m\u001b[43m \u001b[49m\u001b[43mepsilon\u001b[49m\u001b[43m,\u001b[49m\u001b[43m \u001b[49m\u001b[43ma_alphas\u001b[49m\u001b[43m,\u001b[49m\u001b[43m \u001b[49m\u001b[43ma_alpha_roots\u001b[49m\u001b[43m,\u001b[49m\n\u001b[0;32m   1357\u001b[0m \u001b[43m                                                    \u001b[49m\u001b[43ma_alpha_j_rows\u001b[49m\u001b[38;5;241;43m=\u001b[39;49m\u001b[43ma_alpha_j_rows\u001b[49m\u001b[43m,\u001b[49m\u001b[43m \u001b[49m\u001b[43mvec0\u001b[49m\u001b[38;5;241;43m=\u001b[39;49m\u001b[43mvec0\u001b[49m\u001b[43m)\u001b[49m\n\u001b[0;32m   1358\u001b[0m \u001b[38;5;28;01mreturn\u001b[39;00m PR_lnphis(T, P, Z, b, a_alpha, bs, a_alpha_j_rows, N, lnphis\u001b[38;5;241m=\u001b[39mlnphis)\n",
      "File \u001b[1;32mD:\\anaconda\\envs\\pytorch_gpu\\lib\\site-packages\\thermo\\eos_mix_methods.py:846\u001b[0m, in \u001b[0;36meos_mix_a_alpha_volume\u001b[1;34m(gas, T, P, zs, kijs, b, delta, epsilon, a_alphas, a_alpha_roots, a_alpha_j_rows, vec0)\u001b[0m\n\u001b[0;32m    845\u001b[0m \u001b[38;5;28;01mdef\u001b[39;00m \u001b[38;5;21meos_mix_a_alpha_volume\u001b[39m(gas, T, P, zs, kijs, b, delta, epsilon, a_alphas, a_alpha_roots, a_alpha_j_rows\u001b[38;5;241m=\u001b[39m\u001b[38;5;28;01mNone\u001b[39;00m, vec0\u001b[38;5;241m=\u001b[39m\u001b[38;5;28;01mNone\u001b[39;00m):\n\u001b[1;32m--> 846\u001b[0m     a_alpha, a_alpha_j_rows \u001b[38;5;241m=\u001b[39m \u001b[43ma_alpha_quadratic_terms\u001b[49m\u001b[43m(\u001b[49m\u001b[43ma_alphas\u001b[49m\u001b[43m,\u001b[49m\u001b[43m \u001b[49m\u001b[43ma_alpha_roots\u001b[49m\u001b[43m,\u001b[49m\u001b[43m \u001b[49m\u001b[43mT\u001b[49m\u001b[43m,\u001b[49m\u001b[43m \u001b[49m\u001b[43mzs\u001b[49m\u001b[43m,\u001b[49m\u001b[43m \u001b[49m\u001b[43mkijs\u001b[49m\u001b[43m,\u001b[49m\u001b[43m \u001b[49m\u001b[43ma_alpha_j_rows\u001b[49m\u001b[43m,\u001b[49m\u001b[43m \u001b[49m\u001b[43mvec0\u001b[49m\u001b[43m)\u001b[49m\n\u001b[0;32m    848\u001b[0m     V0, V1, V2 \u001b[38;5;241m=\u001b[39m volume_solutions_halley(T, P, b, delta, epsilon, a_alpha)\n\u001b[0;32m    849\u001b[0m     \u001b[38;5;28;01mif\u001b[39;00m \u001b[38;5;129;01mnot\u001b[39;00m gas:\n\u001b[0;32m    850\u001b[0m         \u001b[38;5;66;03m# Prefer liquid, ensure V0 is the smalest root\u001b[39;00m\n",
      "File \u001b[1;32mD:\\anaconda\\envs\\pytorch_gpu\\lib\\site-packages\\thermo\\eos_mix_methods.py:529\u001b[0m, in \u001b[0;36ma_alpha_quadratic_terms\u001b[1;34m(a_alphas, a_alpha_roots, T, zs, kijs, a_alpha_j_rows, vec0)\u001b[0m\n\u001b[0;32m    527\u001b[0m     a_alpha_j_rows[i] \u001b[38;5;241m*\u001b[39m\u001b[38;5;241m=\u001b[39m a_alpha_roots[i]\n\u001b[0;32m    528\u001b[0m     a_alpha_j_rows[i] \u001b[38;5;241m+\u001b[39m\u001b[38;5;241m=\u001b[39m (\u001b[38;5;241m1.\u001b[39m \u001b[38;5;241m-\u001b[39m  kijs[i][i])\u001b[38;5;241m*\u001b[39ma_alphas[i]\u001b[38;5;241m*\u001b[39mzs[i]\n\u001b[1;32m--> 529\u001b[0m     a_alpha \u001b[38;5;241m+\u001b[39m\u001b[38;5;241m=\u001b[39m \u001b[43ma_alpha_j_rows\u001b[49m\u001b[43m[\u001b[49m\u001b[43mi\u001b[49m\u001b[43m]\u001b[49m\u001b[38;5;241m*\u001b[39mzs[i]\n\u001b[0;32m    531\u001b[0m \u001b[38;5;28;01mreturn\u001b[39;00m a_alpha, a_alpha_j_rows\n\u001b[0;32m    532\u001b[0m \u001b[38;5;66;03m# This is faster in PyPy and can be made even faster optimizing a_alpha!\u001b[39;00m\n",
      "\u001b[1;31mKeyboardInterrupt\u001b[0m: "
     ]
    }
   ],
   "source": [
    "batchsize_list=[64,128,512]\n",
    "learning_rate_list=[0.001,0.002,0.005]\n",
    "\n",
    "for batchsize in batchsize_list:\n",
    "    for learning_rate in learning_rate_list:\n",
    "\n",
    "        train_loader = DataLoader(train_set, shuffle=False,\n",
    "                                  batch_size=batchsize, collate_fn=generate_data.collate_VL)\n",
    "        test_loader = DataLoader(test_set, shuffle=False,\n",
    "                                  batch_size=batchsize, collate_fn=generate_data.collate_VL)\n",
    "\n",
    "        my_model = ArtificialNN.simple_ANN()\n",
    "#         model.load_state_dict(torch.load(model_path))\n",
    "\n",
    "        criterion = nn.MSELoss()\n",
    "#         criterion=loss_function.My_Mass_Balance_loss(1,1)\n",
    "        optimizer = torch.optim.Adam(my_model.parameters(), lr=learning_rate)\n",
    "\n",
    "        ANN_train = DeepNetwork_Train(my_model, criterion, optimizer, train_loader,f\".\\\\{type(criterion).__name__}_data\\\\lr={learning_rate}bs={batchsize}_mass_balance\",test_loader)\n",
    "        model_paths=\".\\\\saved_model\\\\simpleANN\"+f\"lr={learning_rate}bs={batchsize}\"+type(criterion).__name__+\".pt\"\n",
    "        torch.save(my_model.state_dict(), model_paths)\n",
    "        ANN_train.Train(epoch=30)"
   ]
  },
  {
   "cell_type": "code",
   "execution_count": null,
   "id": "eb0d0cc6",
   "metadata": {},
   "outputs": [],
   "source": [
    "plot_data=pd.read_csv(\".\\\\MSELoss_data\\\\lr=0.002bs=512_mass_balancesimple_ANNtest.csv\",comment=\"#\")\n",
    "x=np.array(plot_data[\"epoch\"])[:-1]\n",
    "y=np.array(plot_data[\"loss\"])[:-1]\n",
    "plt.plot(x,y)\n",
    "plt.xlabel(\"epoch\")\n",
    "plt.ylabel(\"loss\")\n",
    "plt.show()"
   ]
  },
  {
   "cell_type": "code",
   "execution_count": null,
   "id": "ebaea803",
   "metadata": {},
   "outputs": [],
   "source": [
    "pwd()"
   ]
  },
  {
   "cell_type": "code",
   "execution_count": null,
   "id": "1519a868",
   "metadata": {},
   "outputs": [],
   "source": []
  }
 ],
 "metadata": {
  "kernelspec": {
   "display_name": "pytorch_gpu",
   "language": "python",
   "name": "pytorch_gpu"
  },
  "language_info": {
   "codemirror_mode": {
    "name": "ipython",
    "version": 3
   },
   "file_extension": ".py",
   "mimetype": "text/x-python",
   "name": "python",
   "nbconvert_exporter": "python",
   "pygments_lexer": "ipython3",
   "version": "3.8.13"
  }
 },
 "nbformat": 4,
 "nbformat_minor": 5
}
